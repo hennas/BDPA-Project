{
 "cells": [
  {
   "cell_type": "code",
   "execution_count": 1,
   "metadata": {
    "ExecuteTime": {
     "end_time": "2021-05-06T00:56:27.697363Z",
     "start_time": "2021-05-06T00:56:26.790574Z"
    }
   },
   "outputs": [],
   "source": [
    "from IPython.core.interactiveshell import InteractiveShell\n",
    "InteractiveShell.ast_node_interactivity = \"all\"\n",
    "from pyspark.sql.functions import to_date, to_timestamp, col, lit, concat, split, when\n",
    "import sys \n",
    "from pyspark.sql import SparkSession\n",
    "import pandas as pd"
   ]
  },
  {
   "cell_type": "code",
   "execution_count": 2,
   "metadata": {
    "ExecuteTime": {
     "end_time": "2021-05-06T00:56:33.943813Z",
     "start_time": "2021-05-06T00:56:27.850536Z"
    }
   },
   "outputs": [],
   "source": [
    "spark = SparkSession.builder \\\n",
    "    .master(\"spark://10.129.6.139:7077\") \\\n",
    "    .appName(\"Preprocess\") \\\n",
    "    .getOrCreate()"
   ]
  },
  {
   "cell_type": "code",
   "execution_count": 3,
   "metadata": {
    "ExecuteTime": {
     "end_time": "2021-05-06T00:56:34.759419Z",
     "start_time": "2021-05-06T00:56:34.753614Z"
    }
   },
   "outputs": [],
   "source": [
    "# The code in this cell is taken from https://stackoverflow.com/questions/37513355/converting-pandas-dataframe-into-spark-dataframe-error\n",
    "from pyspark.sql.types import *\n",
    "\n",
    "# Auxiliar functions\n",
    "def equivalent_type(f):\n",
    "    if f == 'datetime64[ns]': return TimestampType()\n",
    "    elif f == 'int64': return LongType()\n",
    "    elif f == 'int32': return IntegerType()\n",
    "    elif f == 'float64': return FloatType()\n",
    "    else: return StringType()\n",
    "\n",
    "def define_structure(string, format_type):\n",
    "    try: typo = equivalent_type(format_type)\n",
    "    except: typo = StringType()\n",
    "    return StructField(string, typo)\n",
    "\n",
    "# Given pandas dataframe, it will return a spark's dataframe.\n",
    "def pandas_to_spark(pandas_df):\n",
    "    columns = list(pandas_df.columns)\n",
    "    types = list(pandas_df.dtypes)\n",
    "    struct_list = []\n",
    "    for column, typo in zip(columns, types): \n",
    "          struct_list.append(define_structure(column, typo))\n",
    "    p_schema = StructType(struct_list)\n",
    "    return spark.createDataFrame(pandas_df, p_schema)"
   ]
  },
  {
   "cell_type": "code",
   "execution_count": 4,
   "metadata": {
    "ExecuteTime": {
     "end_time": "2021-05-06T00:57:18.537743Z",
     "start_time": "2021-05-06T00:56:39.350168Z"
    }
   },
   "outputs": [],
   "source": [
    "# using spark.read.csv doesn't work due to \"Description\" column, because it has content on some rows that has commas\n",
    "# -> Spark can't read the file right, but Pandas can, so file is first read into Pandas and converted to spark\n",
    "df_pd = pd.read_csv(\"/mnt/bdpa21-group9-pvc/Data/Traffic_Violations.csv\", low_memory=False)\n",
    "df = pandas_to_spark(df_pd)"
   ]
  },
  {
   "cell_type": "code",
   "execution_count": 5,
   "metadata": {
    "ExecuteTime": {
     "end_time": "2021-05-06T00:57:21.060512Z",
     "start_time": "2021-05-06T00:57:20.845269Z"
    }
   },
   "outputs": [],
   "source": [
    "del df_pd"
   ]
  },
  {
   "cell_type": "code",
   "execution_count": 6,
   "metadata": {
    "ExecuteTime": {
     "end_time": "2021-05-06T00:57:24.567051Z",
     "start_time": "2021-05-06T00:57:24.504066Z"
    }
   },
   "outputs": [],
   "source": [
    "#Removing redundant features\n",
    "df = df.drop('Agency',\n",
    " 'SubAgency',\n",
    " 'Description',\n",
    " 'Location',\n",
    " 'Latitude',\n",
    " 'Longitude',\n",
    " 'Accident',\n",
    " 'Commercial License',\n",
    " 'State',\n",
    " 'Make',\n",
    " 'Model',\n",
    " 'Charge',\n",
    " 'Article',\n",
    " 'Driver City',\n",
    " 'Driver State',\n",
    " 'DL State',\n",
    " 'Arrest Type',\n",
    " 'Geolocation')"
   ]
  },
  {
   "cell_type": "code",
   "execution_count": 7,
   "metadata": {
    "ExecuteTime": {
     "end_time": "2021-05-06T00:57:27.537190Z",
     "start_time": "2021-05-06T00:57:27.527092Z"
    }
   },
   "outputs": [
    {
     "name": "stdout",
     "output_type": "stream",
     "text": [
      "root\n",
      " |-- Date Of Stop: string (nullable = true)\n",
      " |-- Time Of Stop: string (nullable = true)\n",
      " |-- Belts: string (nullable = true)\n",
      " |-- Personal Injury: string (nullable = true)\n",
      " |-- Property Damage: string (nullable = true)\n",
      " |-- Fatal: string (nullable = true)\n",
      " |-- HAZMAT: string (nullable = true)\n",
      " |-- Commercial Vehicle: string (nullable = true)\n",
      " |-- Alcohol: string (nullable = true)\n",
      " |-- Work Zone: string (nullable = true)\n",
      " |-- VehicleType: string (nullable = true)\n",
      " |-- Year: float (nullable = true)\n",
      " |-- Color: string (nullable = true)\n",
      " |-- Violation Type: string (nullable = true)\n",
      " |-- Contributed To Accident: string (nullable = true)\n",
      " |-- Race: string (nullable = true)\n",
      " |-- Gender: string (nullable = true)\n",
      "\n"
     ]
    }
   ],
   "source": [
    "df.printSchema()"
   ]
  },
  {
   "cell_type": "code",
   "execution_count": 8,
   "metadata": {
    "ExecuteTime": {
     "end_time": "2021-05-06T00:57:39.239495Z",
     "start_time": "2021-05-06T00:57:31.218237Z"
    }
   },
   "outputs": [
    {
     "name": "stdout",
     "output_type": "stream",
     "text": [
      "-RECORD 0----------------------------------\n",
      " Date Of Stop            | 09/24/2013      \n",
      " Time Of Stop            | 17:11:00        \n",
      " Belts                   | No              \n",
      " Personal Injury         | No              \n",
      " Property Damage         | No              \n",
      " Fatal                   | No              \n",
      " HAZMAT                  | No              \n",
      " Commercial Vehicle      | No              \n",
      " Alcohol                 | No              \n",
      " Work Zone               | No              \n",
      " VehicleType             | 02 - Automobile \n",
      " Year                    | 2008.0          \n",
      " Color                   | BLACK           \n",
      " Violation Type          | Citation        \n",
      " Contributed To Accident | No              \n",
      " Race                    | BLACK           \n",
      " Gender                  | M               \n",
      "only showing top 1 row\n",
      "\n"
     ]
    }
   ],
   "source": [
    "df.show(1,vertical=True)"
   ]
  },
  {
   "cell_type": "code",
   "execution_count": 9,
   "metadata": {
    "ExecuteTime": {
     "end_time": "2021-05-06T00:57:42.166085Z",
     "start_time": "2021-05-06T00:57:42.115402Z"
    }
   },
   "outputs": [],
   "source": [
    "df = df.withColumn(\"Date Of Stop\", to_date(col(\"Date Of Stop\"), \"MM/dd/yyyy\")) # Date to standard form"
   ]
  },
  {
   "cell_type": "code",
   "execution_count": 10,
   "metadata": {
    "ExecuteTime": {
     "end_time": "2021-05-06T00:57:43.653272Z",
     "start_time": "2021-05-06T00:57:43.013809Z"
    }
   },
   "outputs": [],
   "source": [
    "dtime = concat(col(\"Date Of Stop\"), lit(\" \"), col(\"Time Of Stop\"))\n",
    "df = df.withColumn(\"Datetime Of Stop\", to_timestamp(dtime)) # Date and time combined to one Datetime column"
   ]
  },
  {
   "cell_type": "code",
   "execution_count": 11,
   "metadata": {
    "ExecuteTime": {
     "end_time": "2021-05-06T00:57:48.568058Z",
     "start_time": "2021-05-06T00:57:48.540561Z"
    }
   },
   "outputs": [],
   "source": [
    "df = df.withColumn(\"VehicleType\", split(col(\"VehicleType\"), \" \")[2]) # Shortening vehicle type category names"
   ]
  },
  {
   "cell_type": "code",
   "execution_count": 12,
   "metadata": {
    "ExecuteTime": {
     "end_time": "2021-05-06T00:57:52.137166Z",
     "start_time": "2021-05-06T00:57:51.649474Z"
    }
   },
   "outputs": [],
   "source": [
    "binvars =[\n",
    " 'Belts',\n",
    " 'Personal Injury',\n",
    " 'Property Damage',\n",
    " 'Fatal',\n",
    " 'HAZMAT',\n",
    " 'Commercial Vehicle',\n",
    " 'Alcohol',\n",
    " 'Work Zone',\n",
    " 'Contributed To Accident'\n",
    "]\n",
    "\n",
    "def to_binary(df, columnName):\n",
    "    df = df.withColumn(columnName, when(col(columnName) == \"Yes\", 1).otherwise(0))\n",
    "    return df\n",
    "    \n",
    "for v in binvars:\n",
    "    df = to_binary(df, v) # All binary variables mapped so that Yes=1, No=0"
   ]
  },
  {
   "cell_type": "code",
   "execution_count": 13,
   "metadata": {
    "ExecuteTime": {
     "end_time": "2021-05-06T00:57:56.245174Z",
     "start_time": "2021-05-06T00:57:56.182689Z"
    }
   },
   "outputs": [],
   "source": [
    "# Undefined values turned into NULLs\n",
    "def replace_with_null(column, value):\n",
    "    return when(column != value, column).otherwise(lit(None))\n",
    "\n",
    "df = df.withColumn(\"Gender\", replace_with_null(col(\"Gender\"), \"U\"))\n",
    "df = df.withColumn(\"VehicleType\", replace_with_null(col(\"VehicleType\"), \"Unknown\"))"
   ]
  },
  {
   "cell_type": "code",
   "execution_count": 14,
   "metadata": {
    "ExecuteTime": {
     "end_time": "2021-05-06T00:58:02.739269Z",
     "start_time": "2021-05-06T00:58:02.634106Z"
    }
   },
   "outputs": [],
   "source": [
    "# Filtering out illogical vehicle manufacturing years\n",
    "df = df.withColumn(\"Year\", when((col(\"Year\") > 1960) & (col(\"Year\") < 2017), col(\"Year\")).otherwise(lit(None)))"
   ]
  },
  {
   "cell_type": "code",
   "execution_count": 15,
   "metadata": {
    "ExecuteTime": {
     "end_time": "2021-05-06T00:58:07.321157Z",
     "start_time": "2021-05-06T00:58:07.297284Z"
    }
   },
   "outputs": [],
   "source": [
    "# Gender to binary, 1 = M, 0 = F\n",
    "df = df.withColumn(\"Gender\", when(col(\"Gender\") == \"M\", 1).when(col(\"Gender\") == \"F\", 0))"
   ]
  },
  {
   "cell_type": "code",
   "execution_count": 17,
   "metadata": {
    "ExecuteTime": {
     "end_time": "2021-05-06T00:53:50.738229Z",
     "start_time": "2021-05-06T00:53:37.671945Z"
    }
   },
   "outputs": [
    {
     "name": "stdout",
     "output_type": "stream",
     "text": [
      "+------+------+\n",
      "|Gender| count|\n",
      "+------+------+\n",
      "|  null|  1143|\n",
      "|     1|681330|\n",
      "|     0|336161|\n",
      "+------+------+\n",
      "\n"
     ]
    }
   ],
   "source": [
    "df.groupby(\"Gender\").count().show()"
   ]
  },
  {
   "cell_type": "code",
   "execution_count": 16,
   "metadata": {
    "ExecuteTime": {
     "end_time": "2021-05-06T00:58:14.542607Z",
     "start_time": "2021-05-06T00:58:14.527458Z"
    }
   },
   "outputs": [],
   "source": [
    "df = df.drop('Date Of Stop', 'Time Of Stop') # Deleting date and time columns as they have been combined into one\n",
    "df = df.withColumnRenamed(\"Datetime Of Stop\", \"Datetime\") # Renaming datetime column"
   ]
  },
  {
   "cell_type": "code",
   "execution_count": 17,
   "metadata": {
    "ExecuteTime": {
     "end_time": "2021-05-06T00:58:16.740369Z",
     "start_time": "2021-05-06T00:58:16.732147Z"
    }
   },
   "outputs": [
    {
     "name": "stdout",
     "output_type": "stream",
     "text": [
      "root\n",
      " |-- Belts: integer (nullable = false)\n",
      " |-- Personal Injury: integer (nullable = false)\n",
      " |-- Property Damage: integer (nullable = false)\n",
      " |-- Fatal: integer (nullable = false)\n",
      " |-- HAZMAT: integer (nullable = false)\n",
      " |-- Commercial Vehicle: integer (nullable = false)\n",
      " |-- Alcohol: integer (nullable = false)\n",
      " |-- Work Zone: integer (nullable = false)\n",
      " |-- VehicleType: string (nullable = true)\n",
      " |-- Year: float (nullable = true)\n",
      " |-- Color: string (nullable = true)\n",
      " |-- Violation Type: string (nullable = true)\n",
      " |-- Contributed To Accident: integer (nullable = false)\n",
      " |-- Race: string (nullable = true)\n",
      " |-- Gender: integer (nullable = true)\n",
      " |-- Datetime: timestamp (nullable = true)\n",
      "\n"
     ]
    }
   ],
   "source": [
    "df.printSchema()"
   ]
  },
  {
   "cell_type": "code",
   "execution_count": 18,
   "metadata": {
    "ExecuteTime": {
     "end_time": "2021-05-06T00:58:22.794822Z",
     "start_time": "2021-05-06T00:58:19.546185Z"
    }
   },
   "outputs": [
    {
     "name": "stdout",
     "output_type": "stream",
     "text": [
      "-RECORD 0--------------------------------------\n",
      " Belts                   | 0                   \n",
      " Personal Injury         | 0                   \n",
      " Property Damage         | 0                   \n",
      " Fatal                   | 0                   \n",
      " HAZMAT                  | 0                   \n",
      " Commercial Vehicle      | 0                   \n",
      " Alcohol                 | 0                   \n",
      " Work Zone               | 0                   \n",
      " VehicleType             | Automobile          \n",
      " Year                    | 2008.0              \n",
      " Color                   | BLACK               \n",
      " Violation Type          | Citation            \n",
      " Contributed To Accident | 0                   \n",
      " Race                    | BLACK               \n",
      " Gender                  | 1                   \n",
      " Datetime                | 2013-09-24 17:11:00 \n",
      "only showing top 1 row\n",
      "\n"
     ]
    }
   ],
   "source": [
    "df.show(1,vertical=True)"
   ]
  },
  {
   "cell_type": "code",
   "execution_count": 19,
   "metadata": {
    "ExecuteTime": {
     "end_time": "2021-05-06T00:59:08.436141Z",
     "start_time": "2021-05-06T00:58:53.591080Z"
    }
   },
   "outputs": [],
   "source": [
    "df.write.csv(\"/mnt/bdpa21-group9-pvc/Data/Traffic_Violations_preprocessed.csv\", header=True, mode=\"Overwrite\")"
   ]
  },
  {
   "cell_type": "code",
   "execution_count": 20,
   "metadata": {
    "ExecuteTime": {
     "end_time": "2021-05-06T00:59:29.324005Z",
     "start_time": "2021-05-06T00:59:28.954210Z"
    }
   },
   "outputs": [],
   "source": [
    "spark.stop()"
   ]
  },
  {
   "cell_type": "code",
   "execution_count": null,
   "metadata": {},
   "outputs": [],
   "source": []
  }
 ],
 "metadata": {
  "kernelspec": {
   "display_name": "Python 3",
   "language": "python",
   "name": "python3"
  },
  "language_info": {
   "codemirror_mode": {
    "name": "ipython",
    "version": 3
   },
   "file_extension": ".py",
   "mimetype": "text/x-python",
   "name": "python",
   "nbconvert_exporter": "python",
   "pygments_lexer": "ipython3",
   "version": "3.6.7"
  },
  "toc": {
   "base_numbering": 1,
   "nav_menu": {},
   "number_sections": true,
   "sideBar": true,
   "skip_h1_title": false,
   "title_cell": "Table of Contents",
   "title_sidebar": "Contents",
   "toc_cell": false,
   "toc_position": {},
   "toc_section_display": true,
   "toc_window_display": false
  }
 },
 "nbformat": 4,
 "nbformat_minor": 2
}
