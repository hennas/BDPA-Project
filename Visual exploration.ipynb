{
 "cells": [
  {
   "cell_type": "code",
   "execution_count": 1,
   "metadata": {
    "ExecuteTime": {
     "end_time": "2021-05-06T20:29:21.493190Z",
     "start_time": "2021-05-06T20:29:19.637744Z"
    }
   },
   "outputs": [],
   "source": [
    "from IPython.core.interactiveshell import InteractiveShell\n",
    "InteractiveShell.ast_node_interactivity = \"all\"\n",
    "import pyspark.sql.functions as F\n",
    "import sys \n",
    "from pyspark.sql import SparkSession\n",
    "import pandas as pd\n",
    "import matplotlib.pyplot as plt\n",
    "%matplotlib inline"
   ]
  },
  {
   "cell_type": "code",
   "execution_count": 2,
   "metadata": {
    "ExecuteTime": {
     "end_time": "2021-05-06T20:29:27.443584Z",
     "start_time": "2021-05-06T20:29:21.495041Z"
    }
   },
   "outputs": [],
   "source": [
    "spark = SparkSession.builder \\\n",
    "    .master(\"spark://10.129.6.139:7077\") \\\n",
    "    .appName(\"Visualization\") \\\n",
    "    .getOrCreate()"
   ]
  },
  {
   "cell_type": "code",
   "execution_count": 3,
   "metadata": {
    "ExecuteTime": {
     "end_time": "2021-05-06T20:29:40.989878Z",
     "start_time": "2021-05-06T20:29:27.445916Z"
    }
   },
   "outputs": [],
   "source": [
    "df = spark.read.csv(\"/mnt/bdpa21-group9-pvc/Data/Traffic_Violations_preprocessed.csv\", header=True, inferSchema=True)"
   ]
  },
  {
   "cell_type": "code",
   "execution_count": 4,
   "metadata": {
    "ExecuteTime": {
     "end_time": "2021-05-05T08:24:14.163712Z",
     "start_time": "2021-05-05T08:24:14.143420Z"
    }
   },
   "outputs": [
    {
     "name": "stdout",
     "output_type": "stream",
     "text": [
      "root\n",
      " |-- Latitude: double (nullable = true)\n",
      " |-- Longitude: double (nullable = true)\n",
      " |-- Belts: integer (nullable = true)\n",
      " |-- Personal Injury: integer (nullable = true)\n",
      " |-- Property Damage: integer (nullable = true)\n",
      " |-- Fatal: integer (nullable = true)\n",
      " |-- HAZMAT: integer (nullable = true)\n",
      " |-- Commercial Vehicle: integer (nullable = true)\n",
      " |-- Alcohol: integer (nullable = true)\n",
      " |-- Work Zone: integer (nullable = true)\n",
      " |-- VehicleType: string (nullable = true)\n",
      " |-- Year: double (nullable = true)\n",
      " |-- Color: string (nullable = true)\n",
      " |-- Violation Type: string (nullable = true)\n",
      " |-- Contributed To Accident: integer (nullable = true)\n",
      " |-- Race: string (nullable = true)\n",
      " |-- Gender: integer (nullable = true)\n",
      " |-- Datetime: timestamp (nullable = true)\n",
      "\n"
     ]
    }
   ],
   "source": [
    "df.printSchema()"
   ]
  },
  {
   "cell_type": "code",
   "execution_count": 5,
   "metadata": {
    "ExecuteTime": {
     "end_time": "2021-05-05T08:24:34.214035Z",
     "start_time": "2021-05-05T08:24:33.395144Z"
    }
   },
   "outputs": [
    {
     "name": "stdout",
     "output_type": "stream",
     "text": [
      "-RECORD 0--------------------------------------\n",
      " Latitude                | NaN                 \n",
      " Longitude               | NaN                 \n",
      " Belts                   | 0                   \n",
      " Personal Injury         | 0                   \n",
      " Property Damage         | 0                   \n",
      " Fatal                   | 0                   \n",
      " HAZMAT                  | 0                   \n",
      " Commercial Vehicle      | 0                   \n",
      " Alcohol                 | 0                   \n",
      " Work Zone               | 0                   \n",
      " VehicleType             | Automobile          \n",
      " Year                    | 2008.0              \n",
      " Color                   | BLACK               \n",
      " Violation Type          | Citation            \n",
      " Contributed To Accident | 0                   \n",
      " Race                    | BLACK               \n",
      " Gender                  | 1                   \n",
      " Datetime                | 2013-09-24 17:11:00 \n",
      "-RECORD 1--------------------------------------\n",
      " Latitude                | 38.983578           \n",
      " Longitude               | -77.0931            \n",
      " Belts                   | 0                   \n",
      " Personal Injury         | 0                   \n",
      " Property Damage         | 0                   \n",
      " Fatal                   | 0                   \n",
      " HAZMAT                  | 0                   \n",
      " Commercial Vehicle      | 0                   \n",
      " Alcohol                 | 0                   \n",
      " Work Zone               | 0                   \n",
      " VehicleType             | Automobile          \n",
      " Year                    | 2005.0              \n",
      " Color                   | GRAY                \n",
      " Violation Type          | Citation            \n",
      " Contributed To Accident | 0                   \n",
      " Race                    | WHITE               \n",
      " Gender                  | 1                   \n",
      " Datetime                | 2012-12-20 00:41:00 \n",
      "only showing top 2 rows\n",
      "\n"
     ]
    }
   ],
   "source": [
    "df.show(2, vertical=True)"
   ]
  },
  {
   "cell_type": "code",
   "execution_count": 115,
   "metadata": {
    "ExecuteTime": {
     "end_time": "2021-05-05T12:09:30.423877Z",
     "start_time": "2021-05-05T12:09:17.383886Z"
    }
   },
   "outputs": [
    {
     "name": "stdout",
     "output_type": "stream",
     "text": [
      "+---------------+------+-----+\n",
      "|           Race| count|    %|\n",
      "+---------------+------+-----+\n",
      "|          WHITE|376286|36.94|\n",
      "|          BLACK|317298|31.15|\n",
      "|       HISPANIC|210534|20.67|\n",
      "|NATIVE AMERICAN|  2434| 0.24|\n",
      "|          OTHER| 52516| 5.16|\n",
      "|          ASIAN| 59566| 5.85|\n",
      "+---------------+------+-----+\n",
      "\n"
     ]
    }
   ],
   "source": [
    "dfr = df.groupby(\"Race\").count()\n",
    "total = dfr.agg(F.sum(\"count\")).first()[0]\n",
    "dfr.withColumn(\"%\", F.round(F.col(\"count\") / total * 100, 2)).show()"
   ]
  },
  {
   "cell_type": "markdown",
   "metadata": {
    "ExecuteTime": {
     "end_time": "2021-05-05T08:28:34.647205Z",
     "start_time": "2021-05-05T08:28:05.069089Z"
    }
   },
   "source": [
    "## Part 1: How does the time of the day affect the seriousness of a violation?"
   ]
  },
  {
   "cell_type": "code",
   "execution_count": 6,
   "metadata": {
    "ExecuteTime": {
     "end_time": "2021-05-05T08:28:34.647205Z",
     "start_time": "2021-05-05T08:28:05.069089Z"
    }
   },
   "outputs": [
    {
     "name": "stdout",
     "output_type": "stream",
     "text": [
      "+-------------+---------------+-----+-----------+\n",
      "|Hour of a Day|N of violations|Belts|Percent (%)|\n",
      "+-------------+---------------+-----+-----------+\n",
      "|            0|          55611|  992|       1.78|\n",
      "|            1|          44856|  790|       1.76|\n",
      "|            2|          34323|  665|       1.94|\n",
      "|            3|          22633|  486|       2.15|\n",
      "|            4|          13936|  352|       2.53|\n",
      "|            5|           9412|  375|       3.98|\n",
      "|            6|          15148|  748|       4.94|\n",
      "|            7|          36511| 1845|       5.05|\n",
      "|            8|          55848| 2902|        5.2|\n",
      "|            9|          51310| 2530|       4.93|\n",
      "|           10|          52041| 2868|       5.51|\n",
      "|           11|          44005| 2726|       6.19|\n",
      "|           12|          40768| 2057|       5.05|\n",
      "|           13|          41352| 1966|       4.75|\n",
      "|           14|          42971| 1986|       4.62|\n",
      "|           15|          36142| 1700|        4.7|\n",
      "|           16|          48434| 1733|       3.58|\n",
      "|           17|          50595| 1678|       3.32|\n",
      "|           18|          39973| 1455|       3.64|\n",
      "|           19|          35506| 1230|       3.46|\n",
      "|           20|          39648| 1162|       2.93|\n",
      "|           21|          55427| 1319|       2.38|\n",
      "|           22|          76521| 1672|       2.19|\n",
      "|           23|          75663| 1534|       2.03|\n",
      "+-------------+---------------+-----+-----------+\n",
      "\n",
      "+-------------+---------------+---------------+-----------+\n",
      "|Hour of a Day|N of violations|Personal Injury|Percent (%)|\n",
      "+-------------+---------------+---------------+-----------+\n",
      "|            0|          55611|            378|       0.68|\n",
      "|            1|          44856|            297|       0.66|\n",
      "|            2|          34323|            361|       1.05|\n",
      "|            3|          22633|            242|       1.07|\n",
      "|            4|          13936|            243|       1.74|\n",
      "|            5|           9412|            249|       2.65|\n",
      "|            6|          15148|            371|       2.45|\n",
      "|            7|          36511|            548|        1.5|\n",
      "|            8|          55848|            704|       1.26|\n",
      "|            9|          51310|            553|       1.08|\n",
      "|           10|          52041|            475|       0.91|\n",
      "|           11|          44005|            470|       1.07|\n",
      "|           12|          40768|            577|       1.42|\n",
      "|           13|          41352|            472|       1.14|\n",
      "|           14|          42971|            536|       1.25|\n",
      "|           15|          36142|            678|       1.88|\n",
      "|           16|          48434|            638|       1.32|\n",
      "|           17|          50595|            795|       1.57|\n",
      "|           18|          39973|            683|       1.71|\n",
      "|           19|          35506|            576|       1.62|\n",
      "|           20|          39648|            442|       1.11|\n",
      "|           21|          55427|            542|       0.98|\n",
      "|           22|          76521|            586|       0.77|\n",
      "|           23|          75663|            358|       0.47|\n",
      "+-------------+---------------+---------------+-----------+\n",
      "\n",
      "+-------------+---------------+---------------+-----------+\n",
      "|Hour of a Day|N of violations|Property Damage|Percent (%)|\n",
      "+-------------+---------------+---------------+-----------+\n",
      "|            0|          55611|            945|        1.7|\n",
      "|            1|          44856|            968|       2.16|\n",
      "|            2|          34323|            771|       2.25|\n",
      "|            3|          22633|            769|        3.4|\n",
      "|            4|          13936|            524|       3.76|\n",
      "|            5|           9412|            418|       4.44|\n",
      "|            6|          15148|            337|       2.22|\n",
      "|            7|          36511|            630|       1.73|\n",
      "|            8|          55848|            825|       1.48|\n",
      "|            9|          51310|            728|       1.42|\n",
      "|           10|          52041|            561|       1.08|\n",
      "|           11|          44005|            673|       1.53|\n",
      "|           12|          40768|            713|       1.75|\n",
      "|           13|          41352|            640|       1.55|\n",
      "|           14|          42971|            707|       1.65|\n",
      "|           15|          36142|            917|       2.54|\n",
      "|           16|          48434|           1117|       2.31|\n",
      "|           17|          50595|           1146|       2.27|\n",
      "|           18|          39973|           1085|       2.71|\n",
      "|           19|          35506|            934|       2.63|\n",
      "|           20|          39648|            848|       2.14|\n",
      "|           21|          55427|            933|       1.68|\n",
      "|           22|          76521|            919|        1.2|\n",
      "|           23|          75663|            848|       1.12|\n",
      "+-------------+---------------+---------------+-----------+\n",
      "\n",
      "+-------------+---------------+-----+-----------+\n",
      "|Hour of a Day|N of violations|Fatal|Percent (%)|\n",
      "+-------------+---------------+-----+-----------+\n",
      "|            0|          55611|   10|       0.02|\n",
      "|            1|          44856|    5|       0.01|\n",
      "|            2|          34323|    2|       0.01|\n",
      "|            3|          22633|    1|        0.0|\n",
      "|            4|          13936|   10|       0.07|\n",
      "|            5|           9412|    4|       0.04|\n",
      "|            6|          15148|   11|       0.07|\n",
      "|            7|          36511|   13|       0.04|\n",
      "|            8|          55848|    4|       0.01|\n",
      "|            9|          51310|    6|       0.01|\n",
      "|           10|          52041|   15|       0.03|\n",
      "|           11|          44005|   10|       0.02|\n",
      "|           12|          40768|   13|       0.03|\n",
      "|           13|          41352|    9|       0.02|\n",
      "|           14|          42971|   13|       0.03|\n",
      "|           15|          36142|    4|       0.01|\n",
      "|           16|          48434|   16|       0.03|\n",
      "|           17|          50595|   13|       0.03|\n",
      "|           18|          39973|    7|       0.02|\n",
      "|           19|          35506|    5|       0.01|\n",
      "|           20|          39648|    7|       0.02|\n",
      "|           21|          55427|   19|       0.03|\n",
      "|           22|          76521|    9|       0.01|\n",
      "|           23|          75663|    7|       0.01|\n",
      "+-------------+---------------+-----+-----------+\n",
      "\n",
      "+-------------+---------------+------+-----------+\n",
      "|Hour of a Day|N of violations|HAZMAT|Percent (%)|\n",
      "+-------------+---------------+------+-----------+\n",
      "|            0|          55611|     4|       0.01|\n",
      "|            1|          44856|     0|        0.0|\n",
      "|            2|          34323|     0|        0.0|\n",
      "|            3|          22633|     0|        0.0|\n",
      "|            4|          13936|     0|        0.0|\n",
      "|            5|           9412|     0|        0.0|\n",
      "|            6|          15148|     0|        0.0|\n",
      "|            7|          36511|    11|       0.03|\n",
      "|            8|          55848|     9|       0.02|\n",
      "|            9|          51310|    12|       0.02|\n",
      "|           10|          52041|    20|       0.04|\n",
      "|           11|          44005|     7|       0.02|\n",
      "|           12|          40768|    10|       0.02|\n",
      "|           13|          41352|     6|       0.01|\n",
      "|           14|          42971|    11|       0.03|\n",
      "|           15|          36142|     5|       0.01|\n",
      "|           16|          48434|    12|       0.02|\n",
      "|           17|          50595|     1|        0.0|\n",
      "|           18|          39973|     0|        0.0|\n",
      "|           19|          35506|     9|       0.03|\n",
      "|           20|          39648|     0|        0.0|\n",
      "|           21|          55427|     0|        0.0|\n",
      "|           22|          76521|     2|        0.0|\n",
      "|           23|          75663|     0|        0.0|\n",
      "+-------------+---------------+------+-----------+\n",
      "\n",
      "+-------------+---------------+------------------+-----------+\n",
      "|Hour of a Day|N of violations|Commercial Vehicle|Percent (%)|\n",
      "+-------------+---------------+------------------+-----------+\n",
      "|            0|          55611|                50|       0.09|\n",
      "|            1|          44856|                57|       0.13|\n",
      "|            2|          34323|                37|       0.11|\n",
      "|            3|          22633|                34|       0.15|\n",
      "|            4|          13936|                15|       0.11|\n",
      "|            5|           9412|                59|       0.63|\n",
      "|            6|          15148|               239|       1.58|\n",
      "|            7|          36511|               582|       1.59|\n",
      "|            8|          55848|               630|       1.13|\n",
      "|            9|          51310|               631|       1.23|\n",
      "|           10|          52041|               745|       1.43|\n",
      "|           11|          44005|               663|       1.51|\n",
      "|           12|          40768|               665|       1.63|\n",
      "|           13|          41352|               611|       1.48|\n",
      "|           14|          42971|               544|       1.27|\n",
      "|           15|          36142|               259|       0.72|\n",
      "|           16|          48434|               222|       0.46|\n",
      "|           17|          50595|               168|       0.33|\n",
      "|           18|          39973|               113|       0.28|\n",
      "|           19|          35506|                58|       0.16|\n",
      "|           20|          39648|                47|       0.12|\n",
      "|           21|          55427|                57|        0.1|\n",
      "|           22|          76521|                54|       0.07|\n",
      "|           23|          75663|                82|       0.11|\n",
      "+-------------+---------------+------------------+-----------+\n",
      "\n"
     ]
    },
    {
     "name": "stdout",
     "output_type": "stream",
     "text": [
      "+-------------+---------------+-------+-----------+\n",
      "|Hour of a Day|N of violations|Alcohol|Percent (%)|\n",
      "+-------------+---------------+-------+-----------+\n",
      "|            0|          55611|     57|        0.1|\n",
      "|            1|          44856|     15|       0.03|\n",
      "|            2|          34323|     41|       0.12|\n",
      "|            3|          22633|     68|        0.3|\n",
      "|            4|          13936|     28|        0.2|\n",
      "|            5|           9412|     16|       0.17|\n",
      "|            6|          15148|     52|       0.34|\n",
      "|            7|          36511|    124|       0.34|\n",
      "|            8|          55848|    142|       0.25|\n",
      "|            9|          51310|    135|       0.26|\n",
      "|           10|          52041|     66|       0.13|\n",
      "|           11|          44005|     30|       0.07|\n",
      "|           12|          40768|     46|       0.11|\n",
      "|           13|          41352|     87|       0.21|\n",
      "|           14|          42971|     78|       0.18|\n",
      "|           15|          36142|    136|       0.38|\n",
      "|           16|          48434|    160|       0.33|\n",
      "|           17|          50595|    219|       0.43|\n",
      "|           18|          39973|    200|        0.5|\n",
      "|           19|          35506|    114|       0.32|\n",
      "|           20|          39648|     54|       0.14|\n",
      "|           21|          55427|     20|       0.04|\n",
      "|           22|          76521|     50|       0.07|\n",
      "|           23|          75663|     45|       0.06|\n",
      "+-------------+---------------+-------+-----------+\n",
      "\n",
      "+-------------+---------------+---------+-----------+\n",
      "|Hour of a Day|N of violations|Work Zone|Percent (%)|\n",
      "+-------------+---------------+---------+-----------+\n",
      "|            0|          55611|       12|       0.02|\n",
      "|            1|          44856|       16|       0.04|\n",
      "|            2|          34323|        1|        0.0|\n",
      "|            3|          22633|        0|        0.0|\n",
      "|            4|          13936|        0|        0.0|\n",
      "|            5|           9412|        0|        0.0|\n",
      "|            6|          15148|        0|        0.0|\n",
      "|            7|          36511|        9|       0.02|\n",
      "|            8|          55848|        7|       0.01|\n",
      "|            9|          51310|        2|        0.0|\n",
      "|           10|          52041|       12|       0.02|\n",
      "|           11|          44005|       15|       0.03|\n",
      "|           12|          40768|       20|       0.05|\n",
      "|           13|          41352|       32|       0.08|\n",
      "|           14|          42971|       14|       0.03|\n",
      "|           15|          36142|       10|       0.03|\n",
      "|           16|          48434|        5|       0.01|\n",
      "|           17|          50595|        5|       0.01|\n",
      "|           18|          39973|        4|       0.01|\n",
      "|           19|          35506|       12|       0.03|\n",
      "|           20|          39648|        2|       0.01|\n",
      "|           21|          55427|        6|       0.01|\n",
      "|           22|          76521|        8|       0.01|\n",
      "|           23|          75663|        5|       0.01|\n",
      "+-------------+---------------+---------+-----------+\n",
      "\n",
      "+-------------+---------------+-----------------------+-----------+\n",
      "|Hour of a Day|N of violations|Contributed To Accident|Percent (%)|\n",
      "+-------------+---------------+-----------------------+-----------+\n",
      "|            0|          55611|                    926|       1.67|\n",
      "|            1|          44856|                    746|       1.66|\n",
      "|            2|          34323|                    697|       2.03|\n",
      "|            3|          22633|                    770|        3.4|\n",
      "|            4|          13936|                    558|        4.0|\n",
      "|            5|           9412|                    445|       4.73|\n",
      "|            6|          15148|                    605|       3.99|\n",
      "|            7|          36511|                    969|       2.65|\n",
      "|            8|          55848|                   1209|       2.16|\n",
      "|            9|          51310|                   1048|       2.04|\n",
      "|           10|          52041|                    801|       1.54|\n",
      "|           11|          44005|                    982|       2.23|\n",
      "|           12|          40768|                   1009|       2.47|\n",
      "|           13|          41352|                    887|       2.14|\n",
      "|           14|          42971|                   1010|       2.35|\n",
      "|           15|          36142|                   1200|       3.32|\n",
      "|           16|          48434|                   1430|       2.95|\n",
      "|           17|          50595|                   1496|       2.96|\n",
      "|           18|          39973|                   1367|       3.42|\n",
      "|           19|          35506|                   1097|       3.09|\n",
      "|           20|          39648|                   1037|       2.62|\n",
      "|           21|          55427|                   1200|       2.17|\n",
      "|           22|          76521|                   1259|       1.65|\n",
      "|           23|          75663|                    883|       1.17|\n",
      "+-------------+---------------+-----------------------+-----------+\n",
      "\n",
      "+-------------+---------------+------+-----------+\n",
      "|Hour of a Day|N of violations|Gender|Percent (%)|\n",
      "+-------------+---------------+------+-----------+\n",
      "|            0|          55611| 40744|      73.27|\n",
      "|            1|          44856| 33074|      73.73|\n",
      "|            2|          34323| 25868|      75.37|\n",
      "|            3|          22633| 17490|      77.28|\n",
      "|            4|          13936| 10645|      76.38|\n",
      "|            5|           9412|  7332|       77.9|\n",
      "|            6|          15148| 10794|      71.26|\n",
      "|            7|          36511| 22491|       61.6|\n",
      "|            8|          55848| 32111|       57.5|\n",
      "|            9|          51310| 30637|      59.71|\n",
      "|           10|          52041| 32453|      62.36|\n",
      "|           11|          44005| 27918|      63.44|\n",
      "|           12|          40768| 26007|      63.79|\n",
      "|           13|          41352| 26477|      64.03|\n",
      "|           14|          42971| 27603|      64.24|\n",
      "|           15|          36142| 23071|      63.83|\n",
      "|           16|          48434| 30378|      62.72|\n",
      "|           17|          50595| 32133|      63.51|\n",
      "|           18|          39973| 25911|      64.82|\n",
      "|           19|          35506| 24395|      68.71|\n",
      "|           20|          39648| 27213|      68.64|\n",
      "|           21|          55427| 38367|      69.22|\n",
      "|           22|          76521| 53764|      70.26|\n",
      "|           23|          75663| 54454|      71.97|\n",
      "+-------------+---------------+------+-----------+\n",
      "\n"
     ]
    }
   ],
   "source": [
    "binvars = ['Belts',\n",
    " 'Personal Injury',\n",
    " 'Property Damage',\n",
    " 'Fatal',\n",
    " 'HAZMAT',\n",
    " 'Commercial Vehicle',\n",
    " 'Alcohol',\n",
    " 'Work Zone',\n",
    " 'Contributed To Accident',\n",
    " 'Gender']\n",
    "for c in binvars:\n",
    "    temp = df.groupby(F.hour(\"Datetime\").alias(\"Hour of a Day\")).agg(F.count(\"*\").alias(\"N of violations\"), F.sum(c).alias(c)).sort(\"Hour of a Day\")\n",
    "    temp.withColumn(\"Percent (%)\", F.round(F.col(c) / F.col(\"N of violations\")*100, 2)).show(24)"
   ]
  },
  {
   "cell_type": "code",
   "execution_count": 24,
   "metadata": {
    "ExecuteTime": {
     "end_time": "2021-05-07T11:19:20.267275Z",
     "start_time": "2021-05-07T11:19:20.042228Z"
    }
   },
   "outputs": [],
   "source": [
    "temp = df.groupby(F.hour(\"Datetime\").alias(\"Hour of a Day\")).agg(\n",
    "    F.count(\"*\").alias(\"N of violations\"), \n",
    "    F.sum('Personal Injury').alias('Personal Injury'),\n",
    "    F.sum('Property Damage').alias('Property Damage'),\n",
    "    F.sum('Fatal').alias('Fatal'),\n",
    "    F.sum('Contributed To Accident').alias('Contributed To Accident')\n",
    ").sort(\"Hour of a Day\")\n",
    "temp = temp.withColumn(\"Personal Injury Percent (%)\", F.round(F.col('Personal Injury') / F.col(\"N of violations\")*100, 2)).withColumn(\"Property Damage Percent (%)\", F.round(F.col('Property Damage') / F.col(\"N of violations\")*100, 2)).withColumn(\"Fatal Percent (%)\", F.round(F.col('Fatal') / F.col(\"N of violations\")*100, 2)).withColumn(\"Contributed To Accident Percent (%)\", F.round(F.col('Contributed To Accident') / F.col(\"N of violations\")*100, 2))"
   ]
  },
  {
   "cell_type": "code",
   "execution_count": 25,
   "metadata": {
    "ExecuteTime": {
     "end_time": "2021-05-07T11:19:31.883678Z",
     "start_time": "2021-05-07T11:19:21.214098Z"
    }
   },
   "outputs": [],
   "source": [
    "temppd = temp.toPandas()"
   ]
  },
  {
   "cell_type": "code",
   "execution_count": 26,
   "metadata": {
    "ExecuteTime": {
     "end_time": "2021-05-07T11:19:31.905652Z",
     "start_time": "2021-05-07T11:19:31.885762Z"
    }
   },
   "outputs": [
    {
     "data": {
      "text/html": [
       "<div>\n",
       "<style scoped>\n",
       "    .dataframe tbody tr th:only-of-type {\n",
       "        vertical-align: middle;\n",
       "    }\n",
       "\n",
       "    .dataframe tbody tr th {\n",
       "        vertical-align: top;\n",
       "    }\n",
       "\n",
       "    .dataframe thead th {\n",
       "        text-align: right;\n",
       "    }\n",
       "</style>\n",
       "<table border=\"1\" class=\"dataframe\">\n",
       "  <thead>\n",
       "    <tr style=\"text-align: right;\">\n",
       "      <th></th>\n",
       "      <th>Hour of a Day</th>\n",
       "      <th>N of violations</th>\n",
       "      <th>Personal Injury</th>\n",
       "      <th>Property Damage</th>\n",
       "      <th>Fatal</th>\n",
       "      <th>Contributed To Accident</th>\n",
       "      <th>Personal Injury Percent (%)</th>\n",
       "      <th>Property Damage Percent (%)</th>\n",
       "      <th>Fatal Percent (%)</th>\n",
       "      <th>Contributed To Accident Percent (%)</th>\n",
       "    </tr>\n",
       "  </thead>\n",
       "  <tbody>\n",
       "    <tr>\n",
       "      <th>0</th>\n",
       "      <td>0</td>\n",
       "      <td>55611</td>\n",
       "      <td>378</td>\n",
       "      <td>945</td>\n",
       "      <td>10</td>\n",
       "      <td>926</td>\n",
       "      <td>0.68</td>\n",
       "      <td>1.70</td>\n",
       "      <td>0.02</td>\n",
       "      <td>1.67</td>\n",
       "    </tr>\n",
       "    <tr>\n",
       "      <th>1</th>\n",
       "      <td>1</td>\n",
       "      <td>44856</td>\n",
       "      <td>297</td>\n",
       "      <td>968</td>\n",
       "      <td>5</td>\n",
       "      <td>746</td>\n",
       "      <td>0.66</td>\n",
       "      <td>2.16</td>\n",
       "      <td>0.01</td>\n",
       "      <td>1.66</td>\n",
       "    </tr>\n",
       "    <tr>\n",
       "      <th>2</th>\n",
       "      <td>2</td>\n",
       "      <td>34323</td>\n",
       "      <td>361</td>\n",
       "      <td>771</td>\n",
       "      <td>2</td>\n",
       "      <td>697</td>\n",
       "      <td>1.05</td>\n",
       "      <td>2.25</td>\n",
       "      <td>0.01</td>\n",
       "      <td>2.03</td>\n",
       "    </tr>\n",
       "    <tr>\n",
       "      <th>3</th>\n",
       "      <td>3</td>\n",
       "      <td>22633</td>\n",
       "      <td>242</td>\n",
       "      <td>769</td>\n",
       "      <td>1</td>\n",
       "      <td>770</td>\n",
       "      <td>1.07</td>\n",
       "      <td>3.40</td>\n",
       "      <td>0.00</td>\n",
       "      <td>3.40</td>\n",
       "    </tr>\n",
       "    <tr>\n",
       "      <th>4</th>\n",
       "      <td>4</td>\n",
       "      <td>13936</td>\n",
       "      <td>243</td>\n",
       "      <td>524</td>\n",
       "      <td>10</td>\n",
       "      <td>558</td>\n",
       "      <td>1.74</td>\n",
       "      <td>3.76</td>\n",
       "      <td>0.07</td>\n",
       "      <td>4.00</td>\n",
       "    </tr>\n",
       "    <tr>\n",
       "      <th>5</th>\n",
       "      <td>5</td>\n",
       "      <td>9412</td>\n",
       "      <td>249</td>\n",
       "      <td>418</td>\n",
       "      <td>4</td>\n",
       "      <td>445</td>\n",
       "      <td>2.65</td>\n",
       "      <td>4.44</td>\n",
       "      <td>0.04</td>\n",
       "      <td>4.73</td>\n",
       "    </tr>\n",
       "    <tr>\n",
       "      <th>6</th>\n",
       "      <td>6</td>\n",
       "      <td>15148</td>\n",
       "      <td>371</td>\n",
       "      <td>337</td>\n",
       "      <td>11</td>\n",
       "      <td>605</td>\n",
       "      <td>2.45</td>\n",
       "      <td>2.22</td>\n",
       "      <td>0.07</td>\n",
       "      <td>3.99</td>\n",
       "    </tr>\n",
       "    <tr>\n",
       "      <th>7</th>\n",
       "      <td>7</td>\n",
       "      <td>36511</td>\n",
       "      <td>548</td>\n",
       "      <td>630</td>\n",
       "      <td>13</td>\n",
       "      <td>969</td>\n",
       "      <td>1.50</td>\n",
       "      <td>1.73</td>\n",
       "      <td>0.04</td>\n",
       "      <td>2.65</td>\n",
       "    </tr>\n",
       "    <tr>\n",
       "      <th>8</th>\n",
       "      <td>8</td>\n",
       "      <td>55848</td>\n",
       "      <td>704</td>\n",
       "      <td>825</td>\n",
       "      <td>4</td>\n",
       "      <td>1209</td>\n",
       "      <td>1.26</td>\n",
       "      <td>1.48</td>\n",
       "      <td>0.01</td>\n",
       "      <td>2.16</td>\n",
       "    </tr>\n",
       "    <tr>\n",
       "      <th>9</th>\n",
       "      <td>9</td>\n",
       "      <td>51310</td>\n",
       "      <td>553</td>\n",
       "      <td>728</td>\n",
       "      <td>6</td>\n",
       "      <td>1048</td>\n",
       "      <td>1.08</td>\n",
       "      <td>1.42</td>\n",
       "      <td>0.01</td>\n",
       "      <td>2.04</td>\n",
       "    </tr>\n",
       "    <tr>\n",
       "      <th>10</th>\n",
       "      <td>10</td>\n",
       "      <td>52041</td>\n",
       "      <td>475</td>\n",
       "      <td>561</td>\n",
       "      <td>15</td>\n",
       "      <td>801</td>\n",
       "      <td>0.91</td>\n",
       "      <td>1.08</td>\n",
       "      <td>0.03</td>\n",
       "      <td>1.54</td>\n",
       "    </tr>\n",
       "    <tr>\n",
       "      <th>11</th>\n",
       "      <td>11</td>\n",
       "      <td>44005</td>\n",
       "      <td>470</td>\n",
       "      <td>673</td>\n",
       "      <td>10</td>\n",
       "      <td>982</td>\n",
       "      <td>1.07</td>\n",
       "      <td>1.53</td>\n",
       "      <td>0.02</td>\n",
       "      <td>2.23</td>\n",
       "    </tr>\n",
       "    <tr>\n",
       "      <th>12</th>\n",
       "      <td>12</td>\n",
       "      <td>40768</td>\n",
       "      <td>577</td>\n",
       "      <td>713</td>\n",
       "      <td>13</td>\n",
       "      <td>1009</td>\n",
       "      <td>1.42</td>\n",
       "      <td>1.75</td>\n",
       "      <td>0.03</td>\n",
       "      <td>2.47</td>\n",
       "    </tr>\n",
       "    <tr>\n",
       "      <th>13</th>\n",
       "      <td>13</td>\n",
       "      <td>41352</td>\n",
       "      <td>472</td>\n",
       "      <td>640</td>\n",
       "      <td>9</td>\n",
       "      <td>887</td>\n",
       "      <td>1.14</td>\n",
       "      <td>1.55</td>\n",
       "      <td>0.02</td>\n",
       "      <td>2.14</td>\n",
       "    </tr>\n",
       "    <tr>\n",
       "      <th>14</th>\n",
       "      <td>14</td>\n",
       "      <td>42971</td>\n",
       "      <td>536</td>\n",
       "      <td>707</td>\n",
       "      <td>13</td>\n",
       "      <td>1010</td>\n",
       "      <td>1.25</td>\n",
       "      <td>1.65</td>\n",
       "      <td>0.03</td>\n",
       "      <td>2.35</td>\n",
       "    </tr>\n",
       "    <tr>\n",
       "      <th>15</th>\n",
       "      <td>15</td>\n",
       "      <td>36142</td>\n",
       "      <td>678</td>\n",
       "      <td>917</td>\n",
       "      <td>4</td>\n",
       "      <td>1200</td>\n",
       "      <td>1.88</td>\n",
       "      <td>2.54</td>\n",
       "      <td>0.01</td>\n",
       "      <td>3.32</td>\n",
       "    </tr>\n",
       "    <tr>\n",
       "      <th>16</th>\n",
       "      <td>16</td>\n",
       "      <td>48434</td>\n",
       "      <td>638</td>\n",
       "      <td>1117</td>\n",
       "      <td>16</td>\n",
       "      <td>1430</td>\n",
       "      <td>1.32</td>\n",
       "      <td>2.31</td>\n",
       "      <td>0.03</td>\n",
       "      <td>2.95</td>\n",
       "    </tr>\n",
       "    <tr>\n",
       "      <th>17</th>\n",
       "      <td>17</td>\n",
       "      <td>50595</td>\n",
       "      <td>795</td>\n",
       "      <td>1146</td>\n",
       "      <td>13</td>\n",
       "      <td>1496</td>\n",
       "      <td>1.57</td>\n",
       "      <td>2.27</td>\n",
       "      <td>0.03</td>\n",
       "      <td>2.96</td>\n",
       "    </tr>\n",
       "    <tr>\n",
       "      <th>18</th>\n",
       "      <td>18</td>\n",
       "      <td>39973</td>\n",
       "      <td>683</td>\n",
       "      <td>1085</td>\n",
       "      <td>7</td>\n",
       "      <td>1367</td>\n",
       "      <td>1.71</td>\n",
       "      <td>2.71</td>\n",
       "      <td>0.02</td>\n",
       "      <td>3.42</td>\n",
       "    </tr>\n",
       "    <tr>\n",
       "      <th>19</th>\n",
       "      <td>19</td>\n",
       "      <td>35506</td>\n",
       "      <td>576</td>\n",
       "      <td>934</td>\n",
       "      <td>5</td>\n",
       "      <td>1097</td>\n",
       "      <td>1.62</td>\n",
       "      <td>2.63</td>\n",
       "      <td>0.01</td>\n",
       "      <td>3.09</td>\n",
       "    </tr>\n",
       "    <tr>\n",
       "      <th>20</th>\n",
       "      <td>20</td>\n",
       "      <td>39648</td>\n",
       "      <td>442</td>\n",
       "      <td>848</td>\n",
       "      <td>7</td>\n",
       "      <td>1037</td>\n",
       "      <td>1.11</td>\n",
       "      <td>2.14</td>\n",
       "      <td>0.02</td>\n",
       "      <td>2.62</td>\n",
       "    </tr>\n",
       "    <tr>\n",
       "      <th>21</th>\n",
       "      <td>21</td>\n",
       "      <td>55427</td>\n",
       "      <td>542</td>\n",
       "      <td>933</td>\n",
       "      <td>19</td>\n",
       "      <td>1200</td>\n",
       "      <td>0.98</td>\n",
       "      <td>1.68</td>\n",
       "      <td>0.03</td>\n",
       "      <td>2.17</td>\n",
       "    </tr>\n",
       "    <tr>\n",
       "      <th>22</th>\n",
       "      <td>22</td>\n",
       "      <td>76521</td>\n",
       "      <td>586</td>\n",
       "      <td>919</td>\n",
       "      <td>9</td>\n",
       "      <td>1259</td>\n",
       "      <td>0.77</td>\n",
       "      <td>1.20</td>\n",
       "      <td>0.01</td>\n",
       "      <td>1.65</td>\n",
       "    </tr>\n",
       "    <tr>\n",
       "      <th>23</th>\n",
       "      <td>23</td>\n",
       "      <td>75663</td>\n",
       "      <td>358</td>\n",
       "      <td>848</td>\n",
       "      <td>7</td>\n",
       "      <td>883</td>\n",
       "      <td>0.47</td>\n",
       "      <td>1.12</td>\n",
       "      <td>0.01</td>\n",
       "      <td>1.17</td>\n",
       "    </tr>\n",
       "  </tbody>\n",
       "</table>\n",
       "</div>"
      ],
      "text/plain": [
       "    Hour of a Day  N of violations  Personal Injury  Property Damage  Fatal  \\\n",
       "0               0            55611              378              945     10   \n",
       "1               1            44856              297              968      5   \n",
       "2               2            34323              361              771      2   \n",
       "3               3            22633              242              769      1   \n",
       "4               4            13936              243              524     10   \n",
       "5               5             9412              249              418      4   \n",
       "6               6            15148              371              337     11   \n",
       "7               7            36511              548              630     13   \n",
       "8               8            55848              704              825      4   \n",
       "9               9            51310              553              728      6   \n",
       "10             10            52041              475              561     15   \n",
       "11             11            44005              470              673     10   \n",
       "12             12            40768              577              713     13   \n",
       "13             13            41352              472              640      9   \n",
       "14             14            42971              536              707     13   \n",
       "15             15            36142              678              917      4   \n",
       "16             16            48434              638             1117     16   \n",
       "17             17            50595              795             1146     13   \n",
       "18             18            39973              683             1085      7   \n",
       "19             19            35506              576              934      5   \n",
       "20             20            39648              442              848      7   \n",
       "21             21            55427              542              933     19   \n",
       "22             22            76521              586              919      9   \n",
       "23             23            75663              358              848      7   \n",
       "\n",
       "    Contributed To Accident  Personal Injury Percent (%)  \\\n",
       "0                       926                         0.68   \n",
       "1                       746                         0.66   \n",
       "2                       697                         1.05   \n",
       "3                       770                         1.07   \n",
       "4                       558                         1.74   \n",
       "5                       445                         2.65   \n",
       "6                       605                         2.45   \n",
       "7                       969                         1.50   \n",
       "8                      1209                         1.26   \n",
       "9                      1048                         1.08   \n",
       "10                      801                         0.91   \n",
       "11                      982                         1.07   \n",
       "12                     1009                         1.42   \n",
       "13                      887                         1.14   \n",
       "14                     1010                         1.25   \n",
       "15                     1200                         1.88   \n",
       "16                     1430                         1.32   \n",
       "17                     1496                         1.57   \n",
       "18                     1367                         1.71   \n",
       "19                     1097                         1.62   \n",
       "20                     1037                         1.11   \n",
       "21                     1200                         0.98   \n",
       "22                     1259                         0.77   \n",
       "23                      883                         0.47   \n",
       "\n",
       "    Property Damage Percent (%)  Fatal Percent (%)  \\\n",
       "0                          1.70               0.02   \n",
       "1                          2.16               0.01   \n",
       "2                          2.25               0.01   \n",
       "3                          3.40               0.00   \n",
       "4                          3.76               0.07   \n",
       "5                          4.44               0.04   \n",
       "6                          2.22               0.07   \n",
       "7                          1.73               0.04   \n",
       "8                          1.48               0.01   \n",
       "9                          1.42               0.01   \n",
       "10                         1.08               0.03   \n",
       "11                         1.53               0.02   \n",
       "12                         1.75               0.03   \n",
       "13                         1.55               0.02   \n",
       "14                         1.65               0.03   \n",
       "15                         2.54               0.01   \n",
       "16                         2.31               0.03   \n",
       "17                         2.27               0.03   \n",
       "18                         2.71               0.02   \n",
       "19                         2.63               0.01   \n",
       "20                         2.14               0.02   \n",
       "21                         1.68               0.03   \n",
       "22                         1.20               0.01   \n",
       "23                         1.12               0.01   \n",
       "\n",
       "    Contributed To Accident Percent (%)  \n",
       "0                                  1.67  \n",
       "1                                  1.66  \n",
       "2                                  2.03  \n",
       "3                                  3.40  \n",
       "4                                  4.00  \n",
       "5                                  4.73  \n",
       "6                                  3.99  \n",
       "7                                  2.65  \n",
       "8                                  2.16  \n",
       "9                                  2.04  \n",
       "10                                 1.54  \n",
       "11                                 2.23  \n",
       "12                                 2.47  \n",
       "13                                 2.14  \n",
       "14                                 2.35  \n",
       "15                                 3.32  \n",
       "16                                 2.95  \n",
       "17                                 2.96  \n",
       "18                                 3.42  \n",
       "19                                 3.09  \n",
       "20                                 2.62  \n",
       "21                                 2.17  \n",
       "22                                 1.65  \n",
       "23                                 1.17  "
      ]
     },
     "execution_count": 26,
     "metadata": {},
     "output_type": "execute_result"
    }
   ],
   "source": [
    "temppd"
   ]
  },
  {
   "cell_type": "code",
   "execution_count": 89,
   "metadata": {
    "ExecuteTime": {
     "end_time": "2021-04-22T19:39:40.895418Z",
     "start_time": "2021-04-22T19:39:40.839312Z"
    }
   },
   "outputs": [],
   "source": [
    "#from pyspark.ml.feature import Bucketizer\n",
    "#\n",
    "#temp2 = df.withColumn(\"Hour\", F.hour(\"Datetime\"))\n",
    "#\n",
    "#bucketizer = Bucketizer(\n",
    "#    splits=[0,3,6,9,12,15,18,21,24], inputCol=\"Hour\", outputCol=\"Time\"\n",
    "#)\n",
    "#\n",
    "#temp2 = bucketizer.transform(temp2)\n",
    "#\n",
    "#temp2 = temp2.groupby(\"Time\").agg(\n",
    "#    F.count(\"*\").alias(\"N of violations\"), \n",
    "#    F.sum('Personal Injury').alias('Personal Injury'),\n",
    "#    F.sum('Property Damage').alias('Property Damage'),\n",
    "#    F.sum('Fatal').alias('Fatal')\n",
    "#).sort(\"Time\")\n",
    "#temp2 = temp2.withColumn(\"Personal Injury Percent (%)\", F.round(F.col('Personal Injury') / F.col(\"N of violations\")*100, 2)).withColumn(\"Property Damage Percent (%)\", F.round(F.col('Property Damage') / F.col(\"N of violations\")*100, 2)).withColumn(\"Fatal Percent (%)\", F.round(F.col('Fatal') / F.col(\"N of violations\")*100, 2))"
   ]
  },
  {
   "cell_type": "code",
   "execution_count": 27,
   "metadata": {
    "ExecuteTime": {
     "end_time": "2021-05-07T11:19:36.555674Z",
     "start_time": "2021-05-07T11:19:36.135129Z"
    }
   },
   "outputs": [
    {
     "data": {
      "text/plain": [
       "[<matplotlib.lines.Line2D at 0x7f9f9dd313c8>]"
      ]
     },
     "execution_count": 27,
     "metadata": {},
     "output_type": "execute_result"
    },
    {
     "data": {
      "text/plain": [
       "[<matplotlib.lines.Line2D at 0x7f9f9dcfb358>]"
      ]
     },
     "execution_count": 27,
     "metadata": {},
     "output_type": "execute_result"
    },
    {
     "data": {
      "text/plain": [
       "[<matplotlib.lines.Line2D at 0x7f9f9dcfb7b8>]"
      ]
     },
     "execution_count": 27,
     "metadata": {},
     "output_type": "execute_result"
    },
    {
     "data": {
      "text/plain": [
       "Text(0.5, 1.0, '')"
      ]
     },
     "execution_count": 27,
     "metadata": {},
     "output_type": "execute_result"
    },
    {
     "data": {
      "text/plain": [
       "Text(0.5, 0, 'Time of day')"
      ]
     },
     "execution_count": 27,
     "metadata": {},
     "output_type": "execute_result"
    },
    {
     "data": {
      "text/plain": [
       "[Text(0, 0, '0'),\n",
       " Text(0, 0, '3'),\n",
       " Text(0, 0, '6'),\n",
       " Text(0, 0, '9'),\n",
       " Text(0, 0, '12'),\n",
       " Text(0, 0, '15'),\n",
       " Text(0, 0, '18')]"
      ]
     },
     "execution_count": 27,
     "metadata": {},
     "output_type": "execute_result"
    },
    {
     "data": {
      "text/plain": [
       "[<matplotlib.axis.XTick at 0x7f9f9dd66860>,\n",
       " <matplotlib.axis.XTick at 0x7f9f9dd66198>,\n",
       " <matplotlib.axis.XTick at 0x7f9f9dd64e48>,\n",
       " <matplotlib.axis.XTick at 0x7f9f9dd09278>,\n",
       " <matplotlib.axis.XTick at 0x7f9f9dd09898>,\n",
       " <matplotlib.axis.XTick at 0x7f9f9dd09d68>,\n",
       " <matplotlib.axis.XTick at 0x7f9f9dd132b0>,\n",
       " <matplotlib.axis.XTick at 0x7f9f9dd64a90>]"
      ]
     },
     "execution_count": 27,
     "metadata": {},
     "output_type": "execute_result"
    },
    {
     "data": {
      "text/plain": [
       "Text(0, 0.5, 'Percentage of violations (%)')"
      ]
     },
     "execution_count": 27,
     "metadata": {},
     "output_type": "execute_result"
    },
    {
     "data": {
      "text/plain": [
       "<matplotlib.legend.Legend at 0x7f9f9dd09860>"
      ]
     },
     "execution_count": 27,
     "metadata": {},
     "output_type": "execute_result"
    },
    {
     "data": {
      "image/png": "[encoded data removed]",
      "text/plain": [
       "<Figure size 720x432 with 1 Axes>"
      ]
     },
     "metadata": {
      "needs_background": "light"
     },
     "output_type": "display_data"
    }
   ],
   "source": [
    "fig, ax = plt.subplots(figsize=(10,6))\n",
    "ax.plot('Hour of a Day', 'Personal Injury Percent (%)', data=temppd, linewidth=3, label='Personal Injury')\n",
    "ax.plot('Hour of a Day', 'Property Damage Percent (%)', data=temppd, linewidth=3, label='Property Damage')   \n",
    "ax.plot('Hour of a Day', 'Contributed To Accident Percent (%)', data=temppd, linewidth=3, label='Contributed To Accident') \n",
    "ax.set_title('')\n",
    "ax.set_xlabel('Time of day', size=20)\n",
    "ax.set_xticklabels([0,3,6,9,12,15,18,21], fontsize=20)\n",
    "ax.set_xticks([0,3,6,9,12,15,18,21])\n",
    "ax.set_ylabel('Percentage of violations (%)', size=20)\n",
    "ax.tick_params(axis='y', labelsize=20) \n",
    "ax.legend(fontsize=18)\n",
    "\n"
   ]
  },
  {
   "cell_type": "code",
   "execution_count": 28,
   "metadata": {
    "ExecuteTime": {
     "end_time": "2021-05-07T11:19:53.363175Z",
     "start_time": "2021-05-07T11:19:53.278284Z"
    }
   },
   "outputs": [],
   "source": [
    "fig.savefig(\"/mnt/bdpa21-group9-pvc/Figures/seriousness_vs_time.png\")"
   ]
  },
  {
   "cell_type": "markdown",
   "metadata": {
    "ExecuteTime": {
     "end_time": "2021-05-05T08:39:47.624515Z",
     "start_time": "2021-05-05T08:39:25.260686Z"
    }
   },
   "source": [
    "## Part 2: Were seat belts in use or was there alcohol involved in deffirent types of serious violations?"
   ]
  },
  {
   "cell_type": "code",
   "execution_count": 17,
   "metadata": {
    "ExecuteTime": {
     "end_time": "2021-05-05T08:39:47.624515Z",
     "start_time": "2021-05-05T08:39:25.260686Z"
    }
   },
   "outputs": [
    {
     "name": "stdout",
     "output_type": "stream",
     "text": [
      "+-------+-----+\n",
      "|Alcohol|count|\n",
      "+-------+-----+\n",
      "|      1|   72|\n",
      "|      0|11702|\n",
      "+-------+-----+\n",
      "\n",
      "+-------+-----+\n",
      "|Alcohol|count|\n",
      "+-------+-----+\n",
      "|      1|  127|\n",
      "|      0|18829|\n",
      "+-------+-----+\n",
      "\n",
      "+-------+-----+\n",
      "|Alcohol|count|\n",
      "+-------+-----+\n",
      "|      0|  213|\n",
      "+-------+-----+\n",
      "\n",
      "+-------+-----+\n",
      "|Alcohol|count|\n",
      "+-------+-----+\n",
      "|      1|  116|\n",
      "|      0|23515|\n",
      "+-------+-----+\n",
      "\n",
      "+-----+-----+\n",
      "|Belts|count|\n",
      "+-----+-----+\n",
      "|    1| 2495|\n",
      "|    0| 9279|\n",
      "+-----+-----+\n",
      "\n",
      "+-----+-----+\n",
      "|Belts|count|\n",
      "+-----+-----+\n",
      "|    1| 2594|\n",
      "|    0|16362|\n",
      "+-----+-----+\n",
      "\n",
      "+-----+-----+\n",
      "|Belts|count|\n",
      "+-----+-----+\n",
      "|    1|    6|\n",
      "|    0|  207|\n",
      "+-----+-----+\n",
      "\n",
      "+-----+-----+\n",
      "|Belts|count|\n",
      "+-----+-----+\n",
      "|    1| 2800|\n",
      "|    0|20831|\n",
      "+-----+-----+\n",
      "\n"
     ]
    }
   ],
   "source": [
    "df.where(F.col(\"Personal Injury\") == 1).groupby(\"Alcohol\").count().show()\n",
    "df.where(F.col(\"Property Damage\") == 1).groupby(\"Alcohol\").count().show()\n",
    "df.where(F.col(\"Fatal\") == 1).groupby(\"Alcohol\").count().show()\n",
    "df.where(F.col(\"Contributed To Accident\") == 1).groupby(\"Alcohol\").count().show()\n",
    "\n",
    "df.where(F.col(\"Personal Injury\") == 1).groupby(\"Belts\").count().show()\n",
    "df.where(F.col(\"Property Damage\") == 1).groupby(\"Belts\").count().show()\n",
    "df.where(F.col(\"Fatal\") == 1).groupby(\"Belts\").count().show()\n",
    "df.where(F.col(\"Contributed To Accident\") == 1).groupby(\"Belts\").count().show()"
   ]
  },
  {
   "cell_type": "code",
   "execution_count": 18,
   "metadata": {
    "ExecuteTime": {
     "end_time": "2021-05-05T08:40:50.514732Z",
     "start_time": "2021-05-05T08:40:40.843875Z"
    }
   },
   "outputs": [
    {
     "name": "stdout",
     "output_type": "stream",
     "text": [
      "+------------------------------+\n",
      "|round((avg(Alcohol) * 100), 2)|\n",
      "+------------------------------+\n",
      "|                          0.61|\n",
      "+------------------------------+\n",
      "\n",
      "+------------------------------+\n",
      "|round((avg(Alcohol) * 100), 2)|\n",
      "+------------------------------+\n",
      "|                          0.67|\n",
      "+------------------------------+\n",
      "\n",
      "+------------------------------+\n",
      "|round((avg(Alcohol) * 100), 2)|\n",
      "+------------------------------+\n",
      "|                           0.0|\n",
      "+------------------------------+\n",
      "\n",
      "+------------------------------+\n",
      "|round((avg(Alcohol) * 100), 2)|\n",
      "+------------------------------+\n",
      "|                          0.49|\n",
      "+------------------------------+\n",
      "\n",
      "+----------------------------+\n",
      "|round((avg(Belts) * 100), 2)|\n",
      "+----------------------------+\n",
      "|                       21.19|\n",
      "+----------------------------+\n",
      "\n",
      "+----------------------------+\n",
      "|round((avg(Belts) * 100), 2)|\n",
      "+----------------------------+\n",
      "|                       13.68|\n",
      "+----------------------------+\n",
      "\n",
      "+----------------------------+\n",
      "|round((avg(Belts) * 100), 2)|\n",
      "+----------------------------+\n",
      "|                        2.82|\n",
      "+----------------------------+\n",
      "\n",
      "+----------------------------+\n",
      "|round((avg(Belts) * 100), 2)|\n",
      "+----------------------------+\n",
      "|                       11.85|\n",
      "+----------------------------+\n",
      "\n"
     ]
    }
   ],
   "source": [
    "df.where(F.col(\"Personal Injury\") == 1).agg(F.round(F.avg(\"Alcohol\")*100,2)).show()\n",
    "df.where(F.col(\"Property Damage\") == 1).agg(F.round(F.avg(\"Alcohol\")*100,2)).show()\n",
    "df.where(F.col(\"Fatal\") == 1).agg(F.round(F.avg(\"Alcohol\")*100,2)).show()\n",
    "df.where(F.col(\"Contributed To Accident\") == 1).agg(F.round(F.avg(\"Alcohol\")*100,2)).show()\n",
    "\n",
    "df.where(F.col(\"Personal Injury\") == 1).agg(F.round(F.avg(\"Belts\")*100,2)).show()\n",
    "df.where(F.col(\"Property Damage\") == 1).agg(F.round(F.avg(\"Belts\")*100,2)).show()\n",
    "df.where(F.col(\"Fatal\") == 1).agg(F.round(F.avg(\"Belts\")*100,2)).show()\n",
    "df.where(F.col(\"Contributed To Accident\") == 1).agg(F.round(F.avg(\"Belts\")*100,2)).show()"
   ]
  },
  {
   "cell_type": "code",
   "execution_count": 22,
   "metadata": {
    "ExecuteTime": {
     "end_time": "2021-05-07T11:16:08.853825Z",
     "start_time": "2021-05-07T11:16:08.395185Z"
    }
   },
   "outputs": [
    {
     "data": {
      "text/plain": [
       "<BarContainer object of 2 artists>"
      ]
     },
     "execution_count": 22,
     "metadata": {},
     "output_type": "execute_result"
    },
    {
     "data": {
      "text/plain": [
       "<BarContainer object of 2 artists>"
      ]
     },
     "execution_count": 22,
     "metadata": {},
     "output_type": "execute_result"
    },
    {
     "data": {
      "text/plain": [
       "<BarContainer object of 2 artists>"
      ]
     },
     "execution_count": 22,
     "metadata": {},
     "output_type": "execute_result"
    },
    {
     "data": {
      "text/plain": [
       "<BarContainer object of 2 artists>"
      ]
     },
     "execution_count": 22,
     "metadata": {},
     "output_type": "execute_result"
    },
    {
     "data": {
      "text/plain": [
       "Text(0, 0.5, 'Percentage (%)')"
      ]
     },
     "execution_count": 22,
     "metadata": {},
     "output_type": "execute_result"
    },
    {
     "data": {
      "text/plain": [
       "Text(0.5, 1.0, '')"
      ]
     },
     "execution_count": 22,
     "metadata": {},
     "output_type": "execute_result"
    },
    {
     "data": {
      "text/plain": [
       "[<matplotlib.axis.XTick at 0x7f9f9ddba710>,\n",
       " <matplotlib.axis.XTick at 0x7f9f9ddba048>]"
      ]
     },
     "execution_count": 22,
     "metadata": {},
     "output_type": "execute_result"
    },
    {
     "data": {
      "text/plain": [
       "[Text(0, 0, 'Seat belt was in use'), Text(0, 0, 'Involved alcohol')]"
      ]
     },
     "execution_count": 22,
     "metadata": {},
     "output_type": "execute_result"
    },
    {
     "data": {
      "text/plain": [
       "<matplotlib.legend.Legend at 0x7f9f9ddb7cf8>"
      ]
     },
     "execution_count": 22,
     "metadata": {},
     "output_type": "execute_result"
    },
    {
     "data": {
      "text/plain": [
       "Text(-0.36, 19.19, '21.19')"
      ]
     },
     "execution_count": 22,
     "metadata": {},
     "output_type": "execute_result"
    },
    {
     "data": {
      "text/plain": [
       "Text(1.1400000000000001, 0.61, '0.61')"
      ]
     },
     "execution_count": 22,
     "metadata": {},
     "output_type": "execute_result"
    },
    {
     "data": {
      "text/plain": [
       "Text(-0.12, 11.68, '13.68')"
      ]
     },
     "execution_count": 22,
     "metadata": {},
     "output_type": "execute_result"
    },
    {
     "data": {
      "text/plain": [
       "Text(1.38, 0.67, '0.67')"
      ]
     },
     "execution_count": 22,
     "metadata": {},
     "output_type": "execute_result"
    },
    {
     "data": {
      "text/plain": [
       "Text(0.12, 9.85, '11.85')"
      ]
     },
     "execution_count": 22,
     "metadata": {},
     "output_type": "execute_result"
    },
    {
     "data": {
      "text/plain": [
       "Text(1.62, 0.49, '0.49')"
      ]
     },
     "execution_count": 22,
     "metadata": {},
     "output_type": "execute_result"
    },
    {
     "data": {
      "text/plain": [
       "Text(0.36, 0.8199999999999998, '2.82')"
      ]
     },
     "execution_count": 22,
     "metadata": {},
     "output_type": "execute_result"
    },
    {
     "data": {
      "text/plain": [
       "Text(1.8599999999999999, 0.0, '0.0')"
      ]
     },
     "execution_count": 22,
     "metadata": {},
     "output_type": "execute_result"
    },
    {
     "data": {
      "image/png": "[encoded data removed]",
      "text/plain": [
       "<Figure size 720x432 with 1 Axes>"
      ]
     },
     "metadata": {
      "needs_background": "light"
     },
     "output_type": "display_data"
    }
   ],
   "source": [
    "import numpy as np\n",
    "labels = ['Seat belt was in use', 'Involved alcohol']\n",
    "pinj = [21.19,0.61]\n",
    "pdam = [13.68,0.67]\n",
    "contr = [11.85, 0.49]\n",
    "fatal = [2.82, 0.0]\n",
    "\n",
    "x = np.arange(len(labels))*1.5  # label locations\n",
    "width = 0.24\n",
    "\n",
    "fig, ax = plt.subplots(figsize=(10,6))\n",
    "ax.bar(x - 1.5*width, pinj, width, label='Personal Injury')\n",
    "ax.bar(x - 0.5*width, pdam, width, label='Property Damage')\n",
    "ax.bar(x + 0.5*width, contr, width, label='Contributed To Accident')\n",
    "ax.bar(x + 1.5*width, fatal, width, label='Fatal')\n",
    "ax.set_ylabel('Percentage (%)', size=20)\n",
    "ax.tick_params(axis='y', labelsize=20) \n",
    "ax.set_title('')\n",
    "ax.set_xticks(x)\n",
    "ax.set_xticklabels(labels, fontsize=20)\n",
    "ax.legend(fontsize=18)\n",
    "\n",
    "rects = ax.patches\n",
    "labels = [\"21.19\", \"0.61\", \"13.68\", \"0.67\", \"11.85\", \"0.49\", \"2.82\", \"0.0\"]\n",
    "\n",
    "for rect, label in zip(rects, labels):\n",
    "    height = rect.get_height()\n",
    "    if float(label) < 1:\n",
    "        ax.text(rect.get_x() + rect.get_width() / 2, height, label,\n",
    "            ha='center', va='bottom', fontsize=17)\n",
    "    else:\n",
    "        ax.text(rect.get_x() + rect.get_width() / 2, height - 2, label,\n",
    "            ha='center', va='bottom', fontsize=17)"
   ]
  },
  {
   "cell_type": "code",
   "execution_count": 23,
   "metadata": {
    "ExecuteTime": {
     "end_time": "2021-05-07T11:16:22.253741Z",
     "start_time": "2021-05-07T11:16:22.163889Z"
    }
   },
   "outputs": [],
   "source": [
    "fig.savefig(\"/mnt/bdpa21-group9-pvc/Figures/belts_or_alcohol_used_v2.png\")"
   ]
  },
  {
   "cell_type": "markdown",
   "metadata": {
    "ExecuteTime": {
     "end_time": "2021-05-05T11:33:31.540659Z",
     "start_time": "2021-05-05T11:33:24.548621Z"
    }
   },
   "source": [
    "## Part 3: What is the gender distribution inside each type of serious violations?"
   ]
  },
  {
   "cell_type": "code",
   "execution_count": 4,
   "metadata": {
    "ExecuteTime": {
     "end_time": "2021-05-06T20:35:01.241738Z",
     "start_time": "2021-05-06T20:34:36.456770Z"
    }
   },
   "outputs": [
    {
     "name": "stdout",
     "output_type": "stream",
     "text": [
      "+------+-----+----+\n",
      "|Gender|count|   %|\n",
      "+------+-----+----+\n",
      "|     1| 7969|67.7|\n",
      "|     0| 3802|32.3|\n",
      "+------+-----+----+\n",
      "\n",
      "+------+-----+-----+\n",
      "|Gender|count|    %|\n",
      "+------+-----+-----+\n",
      "|     1|13204|69.67|\n",
      "|     0| 5747|30.33|\n",
      "+------+-----+-----+\n",
      "\n",
      "+------+-----+-----+\n",
      "|Gender|count|    %|\n",
      "+------+-----+-----+\n",
      "|     1|  126|59.15|\n",
      "|     0|   87|40.85|\n",
      "+------+-----+-----+\n",
      "\n",
      "+------+-----+-----+\n",
      "|Gender|count|    %|\n",
      "+------+-----+-----+\n",
      "|     1|15935|67.47|\n",
      "|     0| 7683|32.53|\n",
      "+------+-----+-----+\n",
      "\n"
     ]
    }
   ],
   "source": [
    "dfg = df.where(F.col(\"Gender\").isNotNull())\n",
    "\n",
    "t = dfg.where(F.col(\"Personal Injury\") == 1).groupby(\"Gender\").count()\n",
    "total = t.agg(F.sum(\"count\")).first()[0]\n",
    "t.withColumn(\"%\", F.round(F.col(\"count\") / total * 100, 2)).show()\n",
    "\n",
    "t = dfg.where(F.col(\"Property Damage\") == 1).groupby(\"Gender\").count()\n",
    "total = t.agg(F.sum(\"count\")).first()[0]\n",
    "t.withColumn(\"%\", F.round(F.col(\"count\") / total * 100, 2)).show()\n",
    "\n",
    "t = dfg.where(F.col(\"Fatal\") == 1).groupby(\"Gender\").count()\n",
    "total = t.agg(F.sum(\"count\")).first()[0]\n",
    "t.withColumn(\"%\", F.round(F.col(\"count\") / total * 100, 2)).show()\n",
    "\n",
    "t = dfg.where(F.col(\"Contributed To Accident\") == 1).groupby(\"Gender\").count()\n",
    "total = t.agg(F.sum(\"count\")).first()[0]\n",
    "t.withColumn(\"%\", F.round(F.col(\"count\") / total * 100, 2)).show()"
   ]
  },
  {
   "cell_type": "code",
   "execution_count": 113,
   "metadata": {
    "ExecuteTime": {
     "end_time": "2021-05-05T11:55:09.651297Z",
     "start_time": "2021-05-05T11:55:09.112719Z"
    }
   },
   "outputs": [
    {
     "data": {
      "text/plain": [
       "Text(0, 0.5, 'Percentage (%)')"
      ]
     },
     "execution_count": 113,
     "metadata": {},
     "output_type": "execute_result"
    },
    {
     "data": {
      "text/plain": [
       "<matplotlib.legend.Legend at 0x7f9921b85668>"
      ]
     },
     "execution_count": 113,
     "metadata": {},
     "output_type": "execute_result"
    },
    {
     "data": {
      "text/plain": [
       "Text(-0.1, 30, '67.7')"
      ]
     },
     "execution_count": 113,
     "metadata": {},
     "output_type": "execute_result"
    },
    {
     "data": {
      "text/plain": [
       "Text(-0.1, 80, '32.3')"
      ]
     },
     "execution_count": 113,
     "metadata": {},
     "output_type": "execute_result"
    },
    {
     "data": {
      "text/plain": [
       "Text(0.9, 30, '69.67')"
      ]
     },
     "execution_count": 113,
     "metadata": {},
     "output_type": "execute_result"
    },
    {
     "data": {
      "text/plain": [
       "Text(0.9, 80, '30.33')"
      ]
     },
     "execution_count": 113,
     "metadata": {},
     "output_type": "execute_result"
    },
    {
     "data": {
      "text/plain": [
       "Text(1.9, 30, '59.15')"
      ]
     },
     "execution_count": 113,
     "metadata": {},
     "output_type": "execute_result"
    },
    {
     "data": {
      "text/plain": [
       "Text(1.9, 80, '40.85')"
      ]
     },
     "execution_count": 113,
     "metadata": {},
     "output_type": "execute_result"
    },
    {
     "data": {
      "text/plain": [
       "Text(2.9, 30, '67.47')"
      ]
     },
     "execution_count": 113,
     "metadata": {},
     "output_type": "execute_result"
    },
    {
     "data": {
      "text/plain": [
       "Text(2.9, 80, '32.53')"
      ]
     },
     "execution_count": 113,
     "metadata": {},
     "output_type": "execute_result"
    },
    {
     "data": {
      "image/png": "[encoded data removed]",
      "text/plain": [
       "<Figure size 720x432 with 1 Axes>"
      ]
     },
     "metadata": {
      "needs_background": "light"
     },
     "output_type": "display_data"
    }
   ],
   "source": [
    "x_axis = [\"Personal Injury\", \"Property Damage\", \"Fatal\", \"Contributed To Accident\"]\n",
    "\n",
    "index = pd.Index(x_axis)\n",
    "\n",
    "data = {'Male': [67.7, 69.67, 59.15, 67.47],\n",
    "        'Female': [32.3, 30.33, 40.85, 32.53]}\n",
    "\n",
    "plot_data = pd.DataFrame(data, index=index)\n",
    "ax = plot_data.plot(kind='bar', stacked=True, figsize=(10, 6))\n",
    "ax.set_ylabel('Percentage (%)', size=18)\n",
    "ax.tick_params(axis='y', labelsize=15) \n",
    "ax.tick_params(axis='x', labelsize=15, rotation=0) \n",
    "plt.legend(bbox_to_anchor=(1.0, 1), loc='upper left', fontsize=12)\n",
    "\n",
    "for idx, label in enumerate(list(index)): \n",
    "    for acc in plot_data.columns:\n",
    "        value = plot_data.iloc[idx][acc]\n",
    "        if acc == \"Male\":\n",
    "            ax.annotate(value, (idx - 0.1, 30), color=\"white\", fontsize=12)\n",
    "        else:\n",
    "            ax.annotate(value, (idx - 0.1, 80), fontsize=12)\n",
    "plt.savefig(\"/mnt/bdpa21-group9-pvc/Figures/gender_vs_seriousness.png\")\n",
    "plt.show()"
   ]
  },
  {
   "cell_type": "markdown",
   "metadata": {
    "ExecuteTime": {
     "end_time": "2021-05-05T11:56:17.767072Z",
     "start_time": "2021-05-05T11:55:57.010979Z"
    }
   },
   "source": [
    "## Part 4: Race distribution?"
   ]
  },
  {
   "cell_type": "code",
   "execution_count": 114,
   "metadata": {
    "ExecuteTime": {
     "end_time": "2021-05-05T11:56:17.767072Z",
     "start_time": "2021-05-05T11:55:57.010979Z"
    }
   },
   "outputs": [
    {
     "name": "stdout",
     "output_type": "stream",
     "text": [
      "+---------------+-----+-----+\n",
      "|           Race|count|    %|\n",
      "+---------------+-----+-----+\n",
      "|          WHITE| 4536|38.53|\n",
      "|          BLACK| 2846|24.17|\n",
      "|       HISPANIC| 3132| 26.6|\n",
      "|NATIVE AMERICAN|   40| 0.34|\n",
      "|          OTHER|  549| 4.66|\n",
      "|          ASIAN|  671|  5.7|\n",
      "+---------------+-----+-----+\n",
      "\n",
      "+---------------+-----+-----+\n",
      "|           Race|count|    %|\n",
      "+---------------+-----+-----+\n",
      "|          WHITE| 6927|36.54|\n",
      "|          BLACK| 4566|24.09|\n",
      "|       HISPANIC| 5637|29.74|\n",
      "|NATIVE AMERICAN|   51| 0.27|\n",
      "|          OTHER|  752| 3.97|\n",
      "|          ASIAN| 1023|  5.4|\n",
      "+---------------+-----+-----+\n",
      "\n",
      "+---------------+-----+-----+\n",
      "|           Race|count|    %|\n",
      "+---------------+-----+-----+\n",
      "|          WHITE|   77|36.15|\n",
      "|          BLACK|   66|30.99|\n",
      "|       HISPANIC|   52|24.41|\n",
      "|NATIVE AMERICAN|    1| 0.47|\n",
      "|          OTHER|    3| 1.41|\n",
      "|          ASIAN|   14| 6.57|\n",
      "+---------------+-----+-----+\n",
      "\n",
      "+---------------+-----+-----+\n",
      "|           Race|count|    %|\n",
      "+---------------+-----+-----+\n",
      "|          WHITE| 9342|39.53|\n",
      "|          BLACK| 5512|23.33|\n",
      "|       HISPANIC| 6199|26.23|\n",
      "|NATIVE AMERICAN|   81| 0.34|\n",
      "|          OTHER| 1139| 4.82|\n",
      "|          ASIAN| 1358| 5.75|\n",
      "+---------------+-----+-----+\n",
      "\n"
     ]
    }
   ],
   "source": [
    "t = df.where(F.col(\"Personal Injury\") == 1).groupby(\"Race\").count()\n",
    "total = t.agg(F.sum(\"count\")).first()[0]\n",
    "t.withColumn(\"%\", F.round(F.col(\"count\") / total * 100, 2)).show()\n",
    "\n",
    "t = df.where(F.col(\"Property Damage\") == 1).groupby(\"Race\").count()\n",
    "total = t.agg(F.sum(\"count\")).first()[0]\n",
    "t.withColumn(\"%\", F.round(F.col(\"count\") / total * 100, 2)).show()\n",
    "\n",
    "t = df.where(F.col(\"Fatal\") == 1).groupby(\"Race\").count()\n",
    "total = t.agg(F.sum(\"count\")).first()[0]\n",
    "t.withColumn(\"%\", F.round(F.col(\"count\") / total * 100, 2)).show()\n",
    "\n",
    "t = df.where(F.col(\"Contributed To Accident\") == 1).groupby(\"Race\").count()\n",
    "total = t.agg(F.sum(\"count\")).first()[0]\n",
    "t.withColumn(\"%\", F.round(F.col(\"count\") / total * 100, 2)).show()"
   ]
  },
  {
   "cell_type": "markdown",
   "metadata": {
    "ExecuteTime": {
     "end_time": "2021-05-05T08:49:41.248609Z",
     "start_time": "2021-05-05T08:49:41.243131Z"
    }
   },
   "source": [
    "## Part 5: Does the year when the vehicle was made have any connection to the serious violations?"
   ]
  },
  {
   "cell_type": "code",
   "execution_count": 45,
   "metadata": {
    "ExecuteTime": {
     "end_time": "2021-05-05T10:19:11.661022Z",
     "start_time": "2021-05-05T10:19:11.632856Z"
    }
   },
   "outputs": [],
   "source": [
    "#df = df.withColumn(\"Year\", F.when((F.col(\"Year\") > 1960) & (F.col(\"Year\") < 2017), F.col(\"Year\")).otherwise(F.lit(None)))"
   ]
  },
  {
   "cell_type": "code",
   "execution_count": 148,
   "metadata": {
    "ExecuteTime": {
     "end_time": "2021-05-05T14:01:00.412465Z",
     "start_time": "2021-05-05T14:01:00.401338Z"
    }
   },
   "outputs": [],
   "source": [
    "dfy = df.where(F.col(\"Year\").isNotNull())"
   ]
  },
  {
   "cell_type": "code",
   "execution_count": 149,
   "metadata": {
    "ExecuteTime": {
     "end_time": "2021-05-05T14:01:00.651405Z",
     "start_time": "2021-05-05T14:01:00.608643Z"
    }
   },
   "outputs": [],
   "source": [
    "from pyspark.ml.feature import Bucketizer\n",
    "\n",
    "\n",
    "bucketizer = Bucketizer(\n",
    "    splits=[1960,2000,2005,2010,2020], inputCol=\"Year\", outputCol=\"year_class\"\n",
    ")\n",
    "\n",
    "dfy = bucketizer.transform(dfy)"
   ]
  },
  {
   "cell_type": "code",
   "execution_count": 150,
   "metadata": {
    "ExecuteTime": {
     "end_time": "2021-05-05T14:01:12.439658Z",
     "start_time": "2021-05-05T14:01:01.261604Z"
    }
   },
   "outputs": [
    {
     "name": "stdout",
     "output_type": "stream",
     "text": [
      "+----------+------+-----+\n",
      "|year_class| count|    %|\n",
      "+----------+------+-----+\n",
      "|       3.0|272850|27.01|\n",
      "|       2.0|292497|28.96|\n",
      "|       1.0|280592|27.78|\n",
      "|       0.0|164097|16.25|\n",
      "+----------+------+-----+\n",
      "\n"
     ]
    }
   ],
   "source": [
    "t = dfy.groupby(\"year_class\").count()\n",
    "total = t.agg(F.sum(\"count\")).first()[0]\n",
    "t.withColumn(\"%\", F.round(F.col(\"count\") / total * 100, 2)).sort(F.desc(\"year_class\")).show()"
   ]
  },
  {
   "cell_type": "code",
   "execution_count": 151,
   "metadata": {
    "ExecuteTime": {
     "end_time": "2021-05-05T14:01:21.971925Z",
     "start_time": "2021-05-05T14:01:12.441990Z"
    }
   },
   "outputs": [
    {
     "name": "stdout",
     "output_type": "stream",
     "text": [
      "+----------+-----+-----+\n",
      "|year_class|count|    %|\n",
      "+----------+-----+-----+\n",
      "|       3.0| 2995|25.77|\n",
      "|       2.0| 3500|30.11|\n",
      "|       1.0| 3250|27.96|\n",
      "|       0.0| 1879|16.16|\n",
      "+----------+-----+-----+\n",
      "\n",
      "+----------+-----+-----+\n",
      "|year_class|count|    %|\n",
      "+----------+-----+-----+\n",
      "|       3.0| 4569| 24.2|\n",
      "|       2.0| 5054|26.77|\n",
      "|       1.0| 5501|29.13|\n",
      "|       0.0| 3758| 19.9|\n",
      "+----------+-----+-----+\n",
      "\n",
      "+----------+-----+-----+\n",
      "|year_class|count|    %|\n",
      "+----------+-----+-----+\n",
      "|       3.0|   64|30.33|\n",
      "|       2.0|   56|26.54|\n",
      "|       1.0|   63|29.86|\n",
      "|       0.0|   28|13.27|\n",
      "+----------+-----+-----+\n",
      "\n",
      "+----------+-----+-----+\n",
      "|year_class|count|    %|\n",
      "+----------+-----+-----+\n",
      "|       3.0| 5986|25.51|\n",
      "|       2.0| 6775|28.87|\n",
      "|       1.0| 6394|27.25|\n",
      "|       0.0| 4313|18.38|\n",
      "+----------+-----+-----+\n",
      "\n"
     ]
    }
   ],
   "source": [
    "t = dfy.where(F.col(\"Personal Injury\") == 1).groupby(\"year_class\").count()\n",
    "total = t.agg(F.sum(\"count\")).first()[0]\n",
    "t.withColumn(\"%\", F.round(F.col(\"count\") / total * 100, 2)).sort(F.desc(\"year_class\")).show()\n",
    "\n",
    "t = dfy.where(F.col(\"Property Damage\") == 1).groupby(\"year_class\").count()\n",
    "total = t.agg(F.sum(\"count\")).first()[0]\n",
    "t.withColumn(\"%\", F.round(F.col(\"count\") / total * 100, 2)).sort(F.desc(\"year_class\")).show()\n",
    "\n",
    "t = dfy.where(F.col(\"Fatal\") == 1).groupby(\"year_class\").count()\n",
    "total = t.agg(F.sum(\"count\")).first()[0]\n",
    "t.withColumn(\"%\", F.round(F.col(\"count\") / total * 100, 2)).sort(F.desc(\"year_class\")).show()\n",
    "\n",
    "t = dfy.where(F.col(\"Contributed To Accident\") == 1).groupby(\"year_class\").count()\n",
    "total = t.agg(F.sum(\"count\")).first()[0]\n",
    "t.withColumn(\"%\", F.round(F.col(\"count\") / total * 100, 2)).sort(F.desc(\"year_class\")).show()\n"
   ]
  },
  {
   "cell_type": "code",
   "execution_count": null,
   "metadata": {
    "ExecuteTime": {
     "end_time": "2021-05-05T11:27:16.935017Z",
     "start_time": "2021-05-05T11:27:10.992422Z"
    }
   },
   "outputs": [],
   "source": [
    "#t.select(\"count\").rdd.flatMap(lambda x: x).collect()"
   ]
  },
  {
   "cell_type": "code",
   "execution_count": 156,
   "metadata": {
    "ExecuteTime": {
     "end_time": "2021-05-05T14:05:26.249070Z",
     "start_time": "2021-05-05T14:05:25.588877Z"
    },
    "scrolled": false
   },
   "outputs": [
    {
     "data": {
      "text/plain": [
       "Text(0, 0.5, 'Percentage (%)')"
      ]
     },
     "execution_count": 156,
     "metadata": {},
     "output_type": "execute_result"
    },
    {
     "data": {
      "text/plain": [
       "<matplotlib.legend.Legend at 0x7f9920ce2048>"
      ]
     },
     "execution_count": 156,
     "metadata": {},
     "output_type": "execute_result"
    },
    {
     "data": {
      "text/plain": [
       "Text(-0.1, 10, '25.77')"
      ]
     },
     "execution_count": 156,
     "metadata": {},
     "output_type": "execute_result"
    },
    {
     "data": {
      "text/plain": [
       "Text(-0.1, 40, '30.11')"
      ]
     },
     "execution_count": 156,
     "metadata": {},
     "output_type": "execute_result"
    },
    {
     "data": {
      "text/plain": [
       "Text(-0.1, 70, '27.96')"
      ]
     },
     "execution_count": 156,
     "metadata": {},
     "output_type": "execute_result"
    },
    {
     "data": {
      "text/plain": [
       "Text(-0.1, 90, '16.16')"
      ]
     },
     "execution_count": 156,
     "metadata": {},
     "output_type": "execute_result"
    },
    {
     "data": {
      "text/plain": [
       "Text(0.9, 10, '24.2')"
      ]
     },
     "execution_count": 156,
     "metadata": {},
     "output_type": "execute_result"
    },
    {
     "data": {
      "text/plain": [
       "Text(0.9, 40, '26.77')"
      ]
     },
     "execution_count": 156,
     "metadata": {},
     "output_type": "execute_result"
    },
    {
     "data": {
      "text/plain": [
       "Text(0.9, 70, '29.13')"
      ]
     },
     "execution_count": 156,
     "metadata": {},
     "output_type": "execute_result"
    },
    {
     "data": {
      "text/plain": [
       "Text(0.9, 90, '19.9')"
      ]
     },
     "execution_count": 156,
     "metadata": {},
     "output_type": "execute_result"
    },
    {
     "data": {
      "text/plain": [
       "Text(1.9, 10, '30.33')"
      ]
     },
     "execution_count": 156,
     "metadata": {},
     "output_type": "execute_result"
    },
    {
     "data": {
      "text/plain": [
       "Text(1.9, 40, '26.54')"
      ]
     },
     "execution_count": 156,
     "metadata": {},
     "output_type": "execute_result"
    },
    {
     "data": {
      "text/plain": [
       "Text(1.9, 70, '29.86')"
      ]
     },
     "execution_count": 156,
     "metadata": {},
     "output_type": "execute_result"
    },
    {
     "data": {
      "text/plain": [
       "Text(1.9, 90, '13.27')"
      ]
     },
     "execution_count": 156,
     "metadata": {},
     "output_type": "execute_result"
    },
    {
     "data": {
      "text/plain": [
       "Text(2.9, 10, '25.51')"
      ]
     },
     "execution_count": 156,
     "metadata": {},
     "output_type": "execute_result"
    },
    {
     "data": {
      "text/plain": [
       "Text(2.9, 40, '28.87')"
      ]
     },
     "execution_count": 156,
     "metadata": {},
     "output_type": "execute_result"
    },
    {
     "data": {
      "text/plain": [
       "Text(2.9, 70, '27.25')"
      ]
     },
     "execution_count": 156,
     "metadata": {},
     "output_type": "execute_result"
    },
    {
     "data": {
      "text/plain": [
       "Text(2.9, 90, '18.38')"
      ]
     },
     "execution_count": 156,
     "metadata": {},
     "output_type": "execute_result"
    },
    {
     "data": {
      "image/png": "[encoded data removed]",
      "text/plain": [
       "<Figure size 720x432 with 1 Axes>"
      ]
     },
     "metadata": {
      "needs_background": "light"
     },
     "output_type": "display_data"
    }
   ],
   "source": [
    "x_axis = [\"Personal Injury\", \"Property Damage\", \"Fatal\", \"Contributed To Accident\"]\n",
    "\n",
    "index = pd.Index(x_axis)\n",
    "\n",
    "data = {'After 2009': [25.77, 24.2, 30.33, 25.51],\n",
    "        '2005-2009': [30.11, 26.77, 26.54, 28.87],\n",
    "        '2000-2004': [27.96, 29.13, 29.86, 27.25],\n",
    "        'Before 2000': [16.16, 19.9, 13.27, 18.38]\n",
    "       }\n",
    "\n",
    "plot_data = pd.DataFrame(data, index=index)\n",
    "ax = plot_data.plot(kind='bar', stacked=True, figsize=(10, 6))\n",
    "ax.set_ylabel('Percentage (%)', size=18)\n",
    "ax.tick_params(axis='y', labelsize=15) \n",
    "ax.tick_params(axis='x', labelsize=15, rotation=0) \n",
    "plt.legend(title='When vehicle was made', bbox_to_anchor=(1.0, 1), loc='upper left', fontsize=12)\n",
    "\n",
    "for idx, label in enumerate(list(index)): \n",
    "    for acc in plot_data.columns:\n",
    "        value = plot_data.iloc[idx][acc]\n",
    "        if acc == \"After 2009\":\n",
    "            ax.annotate(value, (idx - 0.1, 10), color=\"white\", fontsize=12)\n",
    "        elif acc == \"2005-2009\":\n",
    "            ax.annotate(value, (idx - 0.1, 40), color=\"white\", fontsize=12)\n",
    "        elif acc == \"2000-2004\":\n",
    "            ax.annotate(value, (idx - 0.1, 70), color=\"white\", fontsize=12)\n",
    "        else:\n",
    "            ax.annotate(value, (idx - 0.1, 90), color=\"white\", fontsize=12)\n",
    "plt.savefig(\"/mnt/bdpa21-group9-pvc/Figures/made_time_vs_seriousness.png\")\n",
    "plt.show()"
   ]
  },
  {
   "cell_type": "code",
   "execution_count": null,
   "metadata": {},
   "outputs": [],
   "source": []
  }
 ],
 "metadata": {
  "kernelspec": {
   "display_name": "Python 3",
   "language": "python",
   "name": "python3"
  },
  "language_info": {
   "codemirror_mode": {
    "name": "ipython",
    "version": 3
   },
   "file_extension": ".py",
   "mimetype": "text/x-python",
   "name": "python",
   "nbconvert_exporter": "python",
   "pygments_lexer": "ipython3",
   "version": "3.6.7"
  },
  "toc": {
   "base_numbering": 1,
   "nav_menu": {},
   "number_sections": true,
   "sideBar": true,
   "skip_h1_title": false,
   "title_cell": "Table of Contents",
   "title_sidebar": "Contents",
   "toc_cell": false,
   "toc_position": {},
   "toc_section_display": true,
   "toc_window_display": false
  }
 },
 "nbformat": 4,
 "nbformat_minor": 2
}
