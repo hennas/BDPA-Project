{
 "cells": [
  {
   "cell_type": "code",
   "execution_count": 64,
   "metadata": {
    "ExecuteTime": {
     "end_time": "2021-05-07T16:15:30.520512Z",
     "start_time": "2021-05-07T16:15:30.516735Z"
    }
   },
   "outputs": [],
   "source": [
    "from IPython.core.interactiveshell import InteractiveShell\n",
    "InteractiveShell.ast_node_interactivity = \"all\"\n",
    "from pyspark.sql.functions import split, udf\n",
    "from pyspark.sql import SparkSession\n",
    "from pyspark.sql.types import *\n",
    "from matplotlib import pyplot as plt\n",
    "import pandas as pd"
   ]
  },
  {
   "cell_type": "code",
   "execution_count": 65,
   "metadata": {
    "ExecuteTime": {
     "end_time": "2021-05-07T16:15:30.720178Z",
     "start_time": "2021-05-07T16:15:30.715483Z"
    }
   },
   "outputs": [],
   "source": [
    "spark = SparkSession.builder \\\n",
    "    .master(\"spark://10.129.6.139:7077\") \\\n",
    "    .appName(\"Analysis\") \\\n",
    "    .getOrCreate()"
   ]
  },
  {
   "cell_type": "code",
   "execution_count": 66,
   "metadata": {
    "ExecuteTime": {
     "end_time": "2021-05-07T16:15:31.624657Z",
     "start_time": "2021-05-07T16:15:31.009383Z"
    }
   },
   "outputs": [],
   "source": [
    "df = spark.read.csv(\"Data/Traffic_Violations_preprocessed.csv\", header=True)"
   ]
  },
  {
   "cell_type": "code",
   "execution_count": 67,
   "metadata": {
    "ExecuteTime": {
     "end_time": "2021-05-07T16:15:32.806016Z",
     "start_time": "2021-05-07T16:15:32.802667Z"
    }
   },
   "outputs": [
    {
     "name": "stdout",
     "output_type": "stream",
     "text": [
      "root\n",
      " |-- Belts: string (nullable = true)\n",
      " |-- Personal Injury: string (nullable = true)\n",
      " |-- Property Damage: string (nullable = true)\n",
      " |-- Fatal: string (nullable = true)\n",
      " |-- HAZMAT: string (nullable = true)\n",
      " |-- Commercial Vehicle: string (nullable = true)\n",
      " |-- Alcohol: string (nullable = true)\n",
      " |-- Work Zone: string (nullable = true)\n",
      " |-- VehicleType: string (nullable = true)\n",
      " |-- Year: string (nullable = true)\n",
      " |-- Color: string (nullable = true)\n",
      " |-- Violation Type: string (nullable = true)\n",
      " |-- Contributed To Accident: string (nullable = true)\n",
      " |-- Race: string (nullable = true)\n",
      " |-- Gender: string (nullable = true)\n",
      " |-- Datetime: string (nullable = true)\n",
      "\n"
     ]
    }
   ],
   "source": [
    "df.printSchema()"
   ]
  },
  {
   "cell_type": "code",
   "execution_count": 68,
   "metadata": {
    "ExecuteTime": {
     "end_time": "2021-05-07T16:15:35.993169Z",
     "start_time": "2021-05-07T16:15:35.728843Z"
    }
   },
   "outputs": [
    {
     "data": {
      "text/plain": [
       "[Row(Belts='0', Personal Injury='0', Property Damage='0', Fatal='0', HAZMAT='0', Commercial Vehicle='0', Alcohol='0', Work Zone='0', VehicleType='Light', Year='2013.0', Color='RED', Violation Type='Warning', Contributed To Accident='0', Race='HISPANIC', Gender='1', Datetime='2016-07-08T02:10:00.000+02:00')]"
      ]
     },
     "execution_count": 68,
     "metadata": {},
     "output_type": "execute_result"
    }
   ],
   "source": [
    "df.take(1)"
   ]
  },
  {
   "cell_type": "markdown",
   "metadata": {},
   "source": [
    "## Stats"
   ]
  },
  {
   "cell_type": "markdown",
   "metadata": {
    "ExecuteTime": {
     "end_time": "2021-04-22T07:28:21.626972Z",
     "start_time": "2021-04-22T07:28:19.786224Z"
    }
   },
   "source": [
    "**Add more columns**"
   ]
  },
  {
   "cell_type": "code",
   "execution_count": 7,
   "metadata": {
    "ExecuteTime": {
     "end_time": "2021-05-05T18:49:47.443384Z",
     "start_time": "2021-05-05T18:49:47.347278Z"
    }
   },
   "outputs": [],
   "source": [
    "def date2year(value):\n",
    "    return value.split('-')[0]\n",
    "\n",
    "\n",
    "def date2month(value):\n",
    "    return value.split('-')[1]\n",
    "\n",
    "udf_to_year = udf(date2year, StringType())\n",
    "udf_to_month = udf(date2month, StringType())\n",
    "\n",
    "df = df.withColumn('Year', udf_to_year(\"Datetime\")).withColumn('Month', udf_to_month(\"Datetime\"))"
   ]
  },
  {
   "cell_type": "code",
   "execution_count": 75,
   "metadata": {
    "ExecuteTime": {
     "end_time": "2021-05-07T16:18:29.837618Z",
     "start_time": "2021-05-07T16:18:29.688279Z"
    }
   },
   "outputs": [
    {
     "data": {
      "text/plain": [
       "[Row(Belts='0', Personal Injury='0', Property Damage='0', Fatal='0', HAZMAT='0', Commercial Vehicle='0', Alcohol='0', Work Zone='0', VehicleType='Light', Year='2013.0', Color='RED', Violation Type='Warning', Contributed To Accident='0', Race='HISPANIC', Gender='1', Datetime='2016-07-08T02:10:00.000+02:00')]"
      ]
     },
     "execution_count": 75,
     "metadata": {},
     "output_type": "execute_result"
    }
   ],
   "source": [
    "df.take(1)"
   ]
  },
  {
   "cell_type": "code",
   "execution_count": 76,
   "metadata": {
    "ExecuteTime": {
     "end_time": "2021-05-07T16:18:32.648168Z",
     "start_time": "2021-05-07T16:18:29.906468Z"
    }
   },
   "outputs": [
    {
     "name": "stdout",
     "output_type": "stream",
     "text": [
      "+------+------+-----+\n",
      "|  Year|Gender|count|\n",
      "+------+------+-----+\n",
      "|1966.0|     0|    9|\n",
      "|2013.0|  null|   41|\n",
      "|2010.0|     1|29434|\n",
      "|2009.0|     1|25327|\n",
      "|1964.0|     0|    2|\n",
      "|2015.0|     1|16169|\n",
      "|1986.0|     1|  707|\n",
      "|2006.0|     1|42985|\n",
      "|2006.0|  null|   74|\n",
      "|1996.0|     1|14282|\n",
      "|1997.0|     0| 5801|\n",
      "|2016.0|     0| 3665|\n",
      "|1975.0|     1|   39|\n",
      "|1996.0|  null|   26|\n",
      "|2010.0|     0|21002|\n",
      "|1992.0|  null|    9|\n",
      "|1964.0|     1|   18|\n",
      "|2015.0|     0| 9219|\n",
      "|1995.0|     1|13126|\n",
      "|1982.0|     1|  123|\n",
      "+------+------+-----+\n",
      "only showing top 20 rows\n",
      "\n"
     ]
    }
   ],
   "source": [
    "df.groupBy('Year', 'Gender').count().show()"
   ]
  },
  {
   "cell_type": "markdown",
   "metadata": {},
   "source": [
    "**Rename some columns**"
   ]
  },
  {
   "cell_type": "code",
   "execution_count": 77,
   "metadata": {
    "ExecuteTime": {
     "end_time": "2021-05-07T16:18:32.655776Z",
     "start_time": "2021-05-07T16:18:32.650121Z"
    },
    "code_folding": []
   },
   "outputs": [],
   "source": [
    "dropped = df.withColumnRenamed(\"Date of Stop\", \"Date\")\\\n",
    "                 .withColumnRenamed(\"Time Of Stop\", \"Time\")"
   ]
  },
  {
   "cell_type": "markdown",
   "metadata": {},
   "source": [
    "## Models"
   ]
  },
  {
   "cell_type": "code",
   "execution_count": 78,
   "metadata": {
    "ExecuteTime": {
     "end_time": "2021-05-07T16:18:32.672023Z",
     "start_time": "2021-05-07T16:18:32.657383Z"
    }
   },
   "outputs": [],
   "source": [
    "INTERESTED_FIELDS = ['Gender', 'Alcohol', 'Belts', 'Fatal', 'Personal Injury', 'Property Damage', 'Contributed To Accident']\n",
    "\n",
    "df = df[INTERESTED_FIELDS]"
   ]
  },
  {
   "cell_type": "markdown",
   "metadata": {},
   "source": [
    "**Drop rows with null values**"
   ]
  },
  {
   "cell_type": "code",
   "execution_count": 79,
   "metadata": {
    "ExecuteTime": {
     "end_time": "2021-05-07T16:18:32.686017Z",
     "start_time": "2021-05-07T16:18:32.674247Z"
    }
   },
   "outputs": [],
   "source": [
    "dropped = df.na.drop(how='any')"
   ]
  },
  {
   "cell_type": "markdown",
   "metadata": {},
   "source": [
    "**Create label column**\n",
    "\n",
    "If all _Personal Injury_, _Property Damage_, _Fatal_, _Contributed To Accident_ = 0 -> Label = 0. Otherwise, 1"
   ]
  },
  {
   "cell_type": "code",
   "execution_count": 80,
   "metadata": {
    "ExecuteTime": {
     "end_time": "2021-05-07T16:18:32.741756Z",
     "start_time": "2021-05-07T16:18:32.687373Z"
    }
   },
   "outputs": [],
   "source": [
    "def label_define(a,b,c,d):\n",
    "    if a =='0' and b =='0' and c =='0' and d =='0':\n",
    "        return 0\n",
    "    return 1\n",
    "udf_label_def = udf(label_define, StringType())\n",
    "\n",
    "dropped = dropped.withColumn('label',  udf_label_def(dropped['Fatal'], dropped['Personal Injury'], dropped['Property Damage'], dropped['Contributed To Accident']))"
   ]
  },
  {
   "cell_type": "code",
   "execution_count": 81,
   "metadata": {
    "ExecuteTime": {
     "end_time": "2021-05-07T16:18:37.013405Z",
     "start_time": "2021-05-07T16:18:32.949997Z"
    }
   },
   "outputs": [
    {
     "name": "stdout",
     "output_type": "stream",
     "text": [
      "+-----+------+\n",
      "|label| count|\n",
      "+-----+------+\n",
      "|    0|976788|\n",
      "|    1| 40703|\n",
      "+-----+------+\n",
      "\n"
     ]
    }
   ],
   "source": [
    "dropped.groupby('label').count().show()"
   ]
  },
  {
   "cell_type": "code",
   "execution_count": 82,
   "metadata": {
    "ExecuteTime": {
     "end_time": "2021-05-07T16:18:38.680750Z",
     "start_time": "2021-05-07T16:18:37.015072Z"
    }
   },
   "outputs": [
    {
     "name": "stdout",
     "output_type": "stream",
     "text": [
      "+-----------------------+------+\n",
      "|Contributed To Accident| count|\n",
      "+-----------------------+------+\n",
      "|                      0|993873|\n",
      "|                      1| 23618|\n",
      "+-----------------------+------+\n",
      "\n"
     ]
    }
   ],
   "source": [
    "dropped.groupby('Contributed To Accident').count().show()"
   ]
  },
  {
   "cell_type": "code",
   "execution_count": 83,
   "metadata": {
    "ExecuteTime": {
     "end_time": "2021-05-07T16:18:39.017897Z",
     "start_time": "2021-05-07T16:18:38.682491Z"
    }
   },
   "outputs": [
    {
     "data": {
      "text/plain": [
       "[Row(Gender='1', Alcohol='0', Belts='0', Fatal='0', Personal Injury='0', Property Damage='0', Contributed To Accident='0', label='0')]"
      ]
     },
     "execution_count": 83,
     "metadata": {},
     "output_type": "execute_result"
    }
   ],
   "source": [
    "dropped.take(1)"
   ]
  },
  {
   "cell_type": "markdown",
   "metadata": {
    "ExecuteTime": {
     "end_time": "2021-04-22T22:30:53.227293Z",
     "start_time": "2021-04-22T22:30:53.221287Z"
    }
   },
   "source": [
    "**DECISION TREE**"
   ]
  },
  {
   "cell_type": "code",
   "execution_count": 84,
   "metadata": {
    "ExecuteTime": {
     "end_time": "2021-05-07T16:18:39.022403Z",
     "start_time": "2021-05-07T16:18:39.019587Z"
    }
   },
   "outputs": [],
   "source": [
    "from pyspark.ml import Pipeline, PipelineModel\n",
    "from pyspark.ml.classification import DecisionTreeClassifier\n",
    "from pyspark.ml.feature import OneHotEncoder, StringIndexer, VectorIndexer, IndexToString, VectorAssembler\n",
    "from pyspark.ml.evaluation import MulticlassClassificationEvaluator"
   ]
  },
  {
   "cell_type": "code",
   "execution_count": 85,
   "metadata": {
    "ExecuteTime": {
     "end_time": "2021-05-07T16:18:39.025652Z",
     "start_time": "2021-05-07T16:18:39.023555Z"
    }
   },
   "outputs": [],
   "source": [
    "# feats = ['Gender', 'Alcohol', 'Belts', 'label', 'Race', 'Commercial Vehicle', 'Personal Injury', 'Property Damage', 'Fatal', 'Contributed To Accident' ]\n",
    "\n",
    "feats = ['Gender', 'Alcohol', 'Belts', 'label']"
   ]
  },
  {
   "cell_type": "code",
   "execution_count": 86,
   "metadata": {
    "ExecuteTime": {
     "end_time": "2021-05-07T16:18:39.038225Z",
     "start_time": "2021-05-07T16:18:39.026838Z"
    }
   },
   "outputs": [],
   "source": [
    "data = dropped[feats]"
   ]
  },
  {
   "cell_type": "code",
   "execution_count": 87,
   "metadata": {
    "ExecuteTime": {
     "end_time": "2021-05-07T16:18:39.041795Z",
     "start_time": "2021-05-07T16:18:39.039759Z"
    }
   },
   "outputs": [],
   "source": [
    "# data.show(1)"
   ]
  },
  {
   "cell_type": "code",
   "execution_count": 88,
   "metadata": {
    "ExecuteTime": {
     "end_time": "2021-05-07T16:18:39.046415Z",
     "start_time": "2021-05-07T16:18:39.043667Z"
    }
   },
   "outputs": [
    {
     "name": "stdout",
     "output_type": "stream",
     "text": [
      "root\n",
      " |-- Gender: string (nullable = true)\n",
      " |-- Alcohol: string (nullable = true)\n",
      " |-- Belts: string (nullable = true)\n",
      " |-- label: string (nullable = true)\n",
      "\n"
     ]
    }
   ],
   "source": [
    "data.printSchema()"
   ]
  },
  {
   "cell_type": "code",
   "execution_count": 89,
   "metadata": {
    "ExecuteTime": {
     "end_time": "2021-05-07T16:18:39.061444Z",
     "start_time": "2021-05-07T16:18:39.047898Z"
    }
   },
   "outputs": [],
   "source": [
    "data = data.withColumn('Gender_INT', data.Gender.cast(IntegerType())).withColumn('Alcohol_INT', data.Alcohol.cast(IntegerType())).withColumn('Belts_INT', data.Belts.cast(IntegerType()))"
   ]
  },
  {
   "cell_type": "code",
   "execution_count": 90,
   "metadata": {
    "ExecuteTime": {
     "end_time": "2021-05-07T16:18:39.069369Z",
     "start_time": "2021-05-07T16:18:39.062610Z"
    }
   },
   "outputs": [],
   "source": [
    "data = data.withColumn('label_INT', data.label.cast(IntegerType())).drop('label')"
   ]
  },
  {
   "cell_type": "code",
   "execution_count": 91,
   "metadata": {
    "ExecuteTime": {
     "end_time": "2021-05-07T16:18:39.138541Z",
     "start_time": "2021-05-07T16:18:39.070444Z"
    }
   },
   "outputs": [],
   "source": [
    "data = data.withColumn('label', data.label_INT)"
   ]
  },
  {
   "cell_type": "code",
   "execution_count": 92,
   "metadata": {
    "ExecuteTime": {
     "end_time": "2021-05-07T16:18:39.876274Z",
     "start_time": "2021-05-07T16:18:39.873711Z"
    }
   },
   "outputs": [],
   "source": [
    "# data = data.withColumn('fatal_INT', data.Fatal.cast(IntegerType())).withColumn('pd_INT', data['Property Damage'].cast(IntegerType())).withColumn('cta_INT', data['Contributed To Accident'].cast(IntegerType()))\n",
    "\n",
    "# print(data.corr('Gender_INT',\"label_INT\"))\n",
    "# print(data.corr('Gender_INT',\"pi_INT\"))\n",
    "# print(data.corr('Gender_INT',\"fatal_INT\"))\n",
    "# print(data.corr('Gender_INT',\"pd_INT\"))\n",
    "# print(data.corr('Gender_INT',\"cta_INT\"))\n",
    "\n",
    "# print(data.corr('Belts_INT',\"label_INT\"))\n",
    "# print(data.corr('Belts_INT',\"pi_INT\"))\n",
    "# print(data.corr('Belts_INT',\"fatal_INT\"))\n",
    "# print(data.corr('Belts_INT',\"pd_INT\"))\n",
    "# print(data.corr('Belts_INT',\"cta_INT\"))\n",
    "\n",
    "# print(data.corr('Alcohol_INT',\"label_INT\"))\n",
    "# print(data.corr('Alcohol_INT',\"pi_INT\"))\n",
    "# print(data.corr('Alcohol_INT',\"fatal_INT\"))\n",
    "# print(data.corr('Alcohol_INT',\"pd_INT\"))\n",
    "# print(data.corr('Alcohol_INT',\"cta_INT\"))\n",
    "\n",
    "# print(data.corr('Commercial_Vehicle_INT',\"label_INT\"))\n",
    "# print(data.corr('Commercial_Vehicle_INT',\"pi_INT\"))\n",
    "# print(data.corr('Commercial_Vehicle_INT',\"fatal_INT\"))\n",
    "# print(data.corr('Commercial_Vehicle_INT',\"pd_INT\"))\n",
    "# print(data.corr('Commercial_Vehicle_INT',\"cta_INT\"))\n",
    "\n",
    "# print(data.corr('pi_INT',\"label_INT\"))\n",
    "# print(data.corr('fatal_INT',\"label_INT\"))\n",
    "# print(data.corr('pd_INT',\"label_INT\"))\n",
    "# print(data.corr('cta_INT',\"label_INT\"))"
   ]
  },
  {
   "cell_type": "code",
   "execution_count": 93,
   "metadata": {
    "ExecuteTime": {
     "end_time": "2021-05-07T16:18:40.191271Z",
     "start_time": "2021-05-07T16:18:40.125000Z"
    }
   },
   "outputs": [],
   "source": [
    "assembler = VectorAssembler(\n",
    "    inputCols=['Gender_INT', 'Alcohol_INT', 'Belts_INT'],\n",
    "    outputCol=\"features\")\n",
    "\n",
    "data = assembler.transform(data)"
   ]
  },
  {
   "cell_type": "code",
   "execution_count": 94,
   "metadata": {
    "ExecuteTime": {
     "end_time": "2021-05-07T16:18:42.423571Z",
     "start_time": "2021-05-07T16:18:42.128991Z"
    }
   },
   "outputs": [
    {
     "name": "stdout",
     "output_type": "stream",
     "text": [
      "+------+-------+-----+----------+-----------+---------+---------+-----+-------------+\n",
      "|Gender|Alcohol|Belts|Gender_INT|Alcohol_INT|Belts_INT|label_INT|label|     features|\n",
      "+------+-------+-----+----------+-----------+---------+---------+-----+-------------+\n",
      "|     1|      0|    0|         1|          0|        0|        0|    0|[1.0,0.0,0.0]|\n",
      "+------+-------+-----+----------+-----------+---------+---------+-----+-------------+\n",
      "only showing top 1 row\n",
      "\n"
     ]
    }
   ],
   "source": [
    "data.show(1)"
   ]
  },
  {
   "cell_type": "code",
   "execution_count": 95,
   "metadata": {
    "ExecuteTime": {
     "end_time": "2021-05-07T16:18:51.287525Z",
     "start_time": "2021-05-07T16:18:42.566034Z"
    }
   },
   "outputs": [],
   "source": [
    "featureIndexer = VectorIndexer(inputCol=\"features\", outputCol=\"Features\").fit(data)\n",
    "labelIndexer = StringIndexer(inputCol=\"label\", outputCol=\"Risk\").fit(data)"
   ]
  },
  {
   "cell_type": "markdown",
   "metadata": {
    "ExecuteTime": {
     "end_time": "2021-05-02T00:33:21.805717Z",
     "start_time": "2021-05-02T00:33:21.800097Z"
    }
   },
   "source": [
    "_DATA BALANCING_"
   ]
  },
  {
   "cell_type": "code",
   "execution_count": 96,
   "metadata": {
    "ExecuteTime": {
     "end_time": "2021-05-07T16:18:53.460876Z",
     "start_time": "2021-05-07T16:18:51.289277Z"
    }
   },
   "outputs": [
    {
     "name": "stdout",
     "output_type": "stream",
     "text": [
      "+-----+------+\n",
      "|label| count|\n",
      "+-----+------+\n",
      "|    1| 40703|\n",
      "|    0|976788|\n",
      "+-----+------+\n",
      "\n"
     ]
    }
   ],
   "source": [
    "data.groupby('label').count().show()"
   ]
  },
  {
   "cell_type": "code",
   "execution_count": 97,
   "metadata": {
    "ExecuteTime": {
     "end_time": "2021-05-07T16:19:00.802488Z",
     "start_time": "2021-05-07T16:18:53.462496Z"
    }
   },
   "outputs": [
    {
     "data": {
      "text/plain": [
       "187238"
      ]
     },
     "execution_count": 97,
     "metadata": {},
     "output_type": "execute_result"
    }
   ],
   "source": [
    "# random sample 15% data of label=0\n",
    "df_l0 = data.where(\"label = 0\").sample(0.15)\n",
    "df_l1 = data.where(\"label = 1\")\n",
    "\n",
    "# concat 2 dataframe\n",
    "data = df_l0.union(df_l1)\n",
    "\n",
    "data.count()"
   ]
  },
  {
   "cell_type": "markdown",
   "metadata": {},
   "source": [
    "_TRAINING MODEL_"
   ]
  },
  {
   "cell_type": "code",
   "execution_count": 98,
   "metadata": {
    "ExecuteTime": {
     "end_time": "2021-05-07T16:19:00.815512Z",
     "start_time": "2021-05-07T16:19:00.804186Z"
    }
   },
   "outputs": [],
   "source": [
    "# shuffle then split data\n",
    "train, test = data.randomSplit([0.7, 0.3], seed=1411)"
   ]
  },
  {
   "cell_type": "code",
   "execution_count": 105,
   "metadata": {
    "ExecuteTime": {
     "end_time": "2021-05-07T16:21:20.169484Z",
     "start_time": "2021-05-07T16:21:20.162002Z"
    }
   },
   "outputs": [],
   "source": [
    "# define classifier\n",
    "dtree = DecisionTreeClassifier(labelCol=\"Risk\", featuresCol=\"Features\")"
   ]
  },
  {
   "cell_type": "code",
   "execution_count": 100,
   "metadata": {
    "ExecuteTime": {
     "end_time": "2021-05-07T16:19:22.861150Z",
     "start_time": "2021-05-07T16:19:00.824699Z"
    }
   },
   "outputs": [],
   "source": [
    "pipeline = Pipeline(stages=[labelIndexer, featureIndexer, dtree])\n",
    "\n",
    "# training data\n",
    "dtree_clf = pipeline.fit(train)\n",
    "\n",
    "# save model\n",
    "dtree_clf.write().overwrite().save('model/dtree_clf')"
   ]
  },
  {
   "cell_type": "code",
   "execution_count": 101,
   "metadata": {
    "ExecuteTime": {
     "end_time": "2021-05-07T16:19:25.376688Z",
     "start_time": "2021-05-07T16:19:25.374490Z"
    }
   },
   "outputs": [],
   "source": [
    "# load model\n",
    "# loaded_dtree = PipelineModel.load('model/dtree_clf')"
   ]
  },
  {
   "cell_type": "code",
   "execution_count": 106,
   "metadata": {
    "ExecuteTime": {
     "end_time": "2021-05-07T16:21:33.760485Z",
     "start_time": "2021-05-07T16:21:33.758210Z"
    }
   },
   "outputs": [],
   "source": [
    "# summary only\n",
    "# print(dtree_clf.stages[2])"
   ]
  },
  {
   "cell_type": "markdown",
   "metadata": {},
   "source": [
    "_PREDICTION ON TEST DATA_"
   ]
  },
  {
   "cell_type": "code",
   "execution_count": 107,
   "metadata": {
    "ExecuteTime": {
     "end_time": "2021-05-07T16:21:40.850028Z",
     "start_time": "2021-05-07T16:21:37.045172Z"
    }
   },
   "outputs": [
    {
     "name": "stdout",
     "output_type": "stream",
     "text": [
      "55818\n"
     ]
    },
    {
     "name": "stderr",
     "output_type": "stream",
     "text": [
      "Exception ignored in: <object repr() failed>\n",
      "Traceback (most recent call last):\n",
      "  File \"/usr/local/spark/python/pyspark/ml/wrapper.py\", line 40, in __del__\n",
      "    if SparkContext._active_spark_context and self._java_obj is not None:\n",
      "AttributeError: 'DecisionTreeClassifier' object has no attribute '_java_obj'\n"
     ]
    },
    {
     "name": "stdout",
     "output_type": "stream",
     "text": [
      "0.31014037132263184\n"
     ]
    }
   ],
   "source": [
    "# Make predictions on test data\n",
    "import time \n",
    "\n",
    "print(test.count())\n",
    "start = time.time()\n",
    "predictions = dtree_clf.transform(test)\n",
    "print(time.time()-start)"
   ]
  },
  {
   "cell_type": "code",
   "execution_count": 660,
   "metadata": {
    "ExecuteTime": {
     "end_time": "2021-05-05T09:49:31.346675Z",
     "start_time": "2021-05-05T09:49:15.290590Z"
    }
   },
   "outputs": [
    {
     "name": "stdout",
     "output_type": "stream",
     "text": [
      "Test Error = 0.214754 \n"
     ]
    }
   ],
   "source": [
    "# print the test error\n",
    "evaluator = MulticlassClassificationEvaluator(\n",
    "    labelCol=\"Risk\", predictionCol=\"prediction\", metricName=\"accuracy\")\n",
    "accuracy = evaluator.evaluate(predictions)\n",
    "print(\"Test Error = %g \" % (1.0 - accuracy))"
   ]
  },
  {
   "cell_type": "code",
   "execution_count": 661,
   "metadata": {
    "ExecuteTime": {
     "end_time": "2021-05-05T09:49:47.844129Z",
     "start_time": "2021-05-05T09:49:31.348061Z"
    }
   },
   "outputs": [
    {
     "name": "stdout",
     "output_type": "stream",
     "text": [
      "              precision    recall  f1-score   support\n",
      "\n",
      "         0.0       0.80      0.97      0.88     43568\n",
      "         1.0       0.52      0.13      0.21     12049\n",
      "\n",
      "   micro avg       0.79      0.79      0.79     55617\n",
      "   macro avg       0.66      0.55      0.54     55617\n",
      "weighted avg       0.74      0.79      0.73     55617\n",
      "\n"
     ]
    }
   ],
   "source": [
    "y_true = predictions.select(['Risk']).collect()\n",
    "y_pred = predictions.select(['prediction']).collect()\n",
    "\n",
    "from sklearn.metrics import classification_report, confusion_matrix\n",
    "print(classification_report(y_true, y_pred))"
   ]
  },
  {
   "cell_type": "code",
   "execution_count": 662,
   "metadata": {
    "ExecuteTime": {
     "end_time": "2021-05-05T09:49:49.861848Z",
     "start_time": "2021-05-05T09:49:47.845744Z"
    }
   },
   "outputs": [
    {
     "data": {
      "text/plain": [
       "<matplotlib.axes._subplots.AxesSubplot at 0x7f0ded0d6f28>"
      ]
     },
     "execution_count": 662,
     "metadata": {},
     "output_type": "execute_result"
    },
    {
     "data": {
      "image/png": "[encoded data removed]",
      "text/plain": [
       "<Figure size 432x288 with 2 Axes>"
      ]
     },
     "metadata": {},
     "output_type": "display_data"
    }
   ],
   "source": [
    "import seaborn as sns\n",
    "cm = confusion_matrix(y_true, y_pred)\n",
    "sns.set(font_scale=1.4) # for label size\n",
    "sns.heatmap(cm, annot=True, annot_kws={\"size\": 16}) # font size\n",
    "\n",
    "plt.show()"
   ]
  },
  {
   "cell_type": "code",
   "execution_count": 663,
   "metadata": {
    "ExecuteTime": {
     "end_time": "2021-05-05T09:49:49.933443Z",
     "start_time": "2021-05-05T09:49:49.863344Z"
    }
   },
   "outputs": [
    {
     "name": "stdout",
     "output_type": "stream",
     "text": [
      "DecisionTreeClassificationModel (uid=DecisionTreeClassifier_07b24c1519d2) of depth 3 with 7 nodes\n"
     ]
    }
   ],
   "source": [
    "print(dtree_clf.stages[2])"
   ]
  },
  {
   "cell_type": "markdown",
   "metadata": {},
   "source": [
    "**RANDOM FOREST**"
   ]
  },
  {
   "cell_type": "code",
   "execution_count": 108,
   "metadata": {
    "ExecuteTime": {
     "end_time": "2021-05-07T16:21:40.976329Z",
     "start_time": "2021-05-07T16:21:40.962394Z"
    }
   },
   "outputs": [],
   "source": [
    "from pyspark.ml.classification import RandomForestClassifier\n",
    "\n",
    "rf = RandomForestClassifier(labelCol=\"Risk\", featuresCol=\"Features\", numTrees=10)"
   ]
  },
  {
   "cell_type": "code",
   "execution_count": 109,
   "metadata": {
    "ExecuteTime": {
     "end_time": "2021-05-07T16:21:43.548787Z",
     "start_time": "2021-05-07T16:21:43.535141Z"
    }
   },
   "outputs": [],
   "source": [
    "labelConverter = IndexToString(inputCol=\"prediction\", outputCol=\"predictedLabel\",\n",
    "                               labels=labelIndexer.labels)\n",
    "\n",
    "pipeline = Pipeline(stages=[labelIndexer, featureIndexer, rf, labelConverter])"
   ]
  },
  {
   "cell_type": "code",
   "execution_count": 110,
   "metadata": {
    "ExecuteTime": {
     "end_time": "2021-05-07T16:22:04.322457Z",
     "start_time": "2021-05-07T16:21:50.533302Z"
    }
   },
   "outputs": [
    {
     "name": "stdout",
     "output_type": "stream",
     "text": [
      "0.12632179260253906\n",
      "Test Error = 0.213318\n"
     ]
    }
   ],
   "source": [
    "rf_model = pipeline.fit(train)\n",
    "\n",
    "# Make predictions.\n",
    "start = time.time()\n",
    "predictions = rf_model.transform(test)\n",
    "print(time.time() - start)\n",
    "\n",
    "evaluator = MulticlassClassificationEvaluator(\n",
    "    labelCol=\"Risk\", predictionCol=\"prediction\", metricName=\"accuracy\")\n",
    "accuracy = evaluator.evaluate(predictions)\n",
    "print(\"Test Error = %g\" % (1.0 - accuracy))"
   ]
  },
  {
   "cell_type": "code",
   "execution_count": 725,
   "metadata": {
    "ExecuteTime": {
     "end_time": "2021-05-05T18:04:07.824441Z",
     "start_time": "2021-05-05T18:03:57.058556Z"
    }
   },
   "outputs": [
    {
     "name": "stdout",
     "output_type": "stream",
     "text": [
      "              precision    recall  f1-score   support\n",
      "\n",
      "         0.0       0.80      0.97      0.88     43540\n",
      "         1.0       0.52      0.13      0.21     12000\n",
      "\n",
      "   micro avg       0.79      0.79      0.79     55540\n",
      "   macro avg       0.66      0.55      0.54     55540\n",
      "weighted avg       0.74      0.79      0.73     55540\n",
      "\n"
     ]
    }
   ],
   "source": [
    "y_true = predictions.select(['Risk']).collect()\n",
    "y_pred = predictions.select(['prediction']).collect()\n",
    "\n",
    "from sklearn.metrics import classification_report, confusion_matrix\n",
    "print(classification_report(y_true, y_pred))"
   ]
  },
  {
   "cell_type": "markdown",
   "metadata": {},
   "source": [
    "**Linear SVM**"
   ]
  },
  {
   "cell_type": "code",
   "execution_count": 123,
   "metadata": {
    "ExecuteTime": {
     "end_time": "2021-05-07T17:13:35.627531Z",
     "start_time": "2021-05-07T17:13:35.621000Z"
    }
   },
   "outputs": [],
   "source": [
    "from pyspark.ml.classification import LinearSVC\n",
    "\n",
    "lsvc = LinearSVC(maxIter=100, regParam=0.001, tol=1e-4)"
   ]
  },
  {
   "cell_type": "code",
   "execution_count": 124,
   "metadata": {
    "ExecuteTime": {
     "end_time": "2021-05-07T17:51:36.595977Z",
     "start_time": "2021-05-07T17:13:39.383439Z"
    }
   },
   "outputs": [
    {
     "name": "stdout",
     "output_type": "stream",
     "text": [
      "Coefficients: [0.0004973249817595177,-0.0,1.9994445160741543]\n",
      "Intercept: -0.9630889684477062\n"
     ]
    }
   ],
   "source": [
    "# Fit the model\n",
    "lsvcModel = lsvc.fit(train)\n",
    "\n",
    "print(\"Coefficients: \" + str(lsvcModel.coefficients))\n",
    "print(\"Intercept: \" + str(lsvcModel.intercept))"
   ]
  },
  {
   "cell_type": "code",
   "execution_count": 125,
   "metadata": {
    "ExecuteTime": {
     "end_time": "2021-05-07T17:51:36.654720Z",
     "start_time": "2021-05-07T17:51:36.597613Z"
    }
   },
   "outputs": [
    {
     "name": "stdout",
     "output_type": "stream",
     "text": [
      "0.054080963134765625\n"
     ]
    }
   ],
   "source": [
    "import time \n",
    "\n",
    "start = time.time()\n",
    "predictions = lsvcModel.transform(test)\n",
    "print(time.time()-start)"
   ]
  },
  {
   "cell_type": "code",
   "execution_count": 126,
   "metadata": {
    "ExecuteTime": {
     "end_time": "2021-05-07T17:51:39.897290Z",
     "start_time": "2021-05-07T17:51:36.656439Z"
    }
   },
   "outputs": [
    {
     "data": {
      "text/plain": [
       "55818"
      ]
     },
     "execution_count": 126,
     "metadata": {},
     "output_type": "execute_result"
    }
   ],
   "source": [
    "predictions.count()"
   ]
  },
  {
   "cell_type": "code",
   "execution_count": 127,
   "metadata": {
    "ExecuteTime": {
     "end_time": "2021-05-07T17:51:46.894791Z",
     "start_time": "2021-05-07T17:51:39.898822Z"
    }
   },
   "outputs": [],
   "source": [
    "y_true = predictions.select(['label']).collect()\n",
    "y_pred = predictions.select(['prediction']).collect()"
   ]
  },
  {
   "cell_type": "code",
   "execution_count": 128,
   "metadata": {
    "ExecuteTime": {
     "end_time": "2021-05-07T17:51:48.660362Z",
     "start_time": "2021-05-07T17:51:46.896169Z"
    }
   },
   "outputs": [
    {
     "name": "stdout",
     "output_type": "stream",
     "text": [
      "              precision    recall  f1-score   support\n",
      "\n",
      "           0       0.80      0.97      0.88     43785\n",
      "           1       0.53      0.13      0.21     12033\n",
      "\n",
      "   micro avg       0.79      0.79      0.79     55818\n",
      "   macro avg       0.67      0.55      0.54     55818\n",
      "weighted avg       0.74      0.79      0.73     55818\n",
      "\n"
     ]
    }
   ],
   "source": [
    "from sklearn.metrics import classification_report, confusion_matrix\n",
    "\n",
    "print(classification_report(y_true, y_pred))"
   ]
  },
  {
   "cell_type": "code",
   "execution_count": 713,
   "metadata": {
    "ExecuteTime": {
     "end_time": "2021-05-05T12:42:50.010445Z",
     "start_time": "2021-05-05T12:42:39.310788Z"
    }
   },
   "outputs": [
    {
     "data": {
      "text/plain": [
       "[Row(Gender='0', Alcohol='0', Belts='0', Gender_INT=0, Alcohol_INT=0, Belts_INT=0, label_INT=0, label=0, features=SparseVector(3, {}), rawPrediction=DenseVector([1.0035, -1.0035]), prediction=0.0)]"
      ]
     },
     "execution_count": 713,
     "metadata": {},
     "output_type": "execute_result"
    }
   ],
   "source": [
    "predictions.head(1)"
   ]
  },
  {
   "cell_type": "code",
   "execution_count": 714,
   "metadata": {
    "ExecuteTime": {
     "end_time": "2021-05-05T13:21:29.057336Z",
     "start_time": "2021-05-05T13:21:26.858917Z"
    }
   },
   "outputs": [
    {
     "name": "stderr",
     "output_type": "stream",
     "text": [
      "Exception ignored in: <bound method JavaModelWrapper.__del__ of <pyspark.mllib.evaluation.BinaryClassificationMetrics object at 0x7f0ded274d68>>\n",
      "Traceback (most recent call last):\n",
      "  File \"/usr/local/spark/python/pyspark/mllib/common.py\", line 142, in __del__\n",
      "    self._sc._gateway.detach(self._java_model)\n",
      "AttributeError: 'BinaryClassificationMetrics' object has no attribute '_sc'\n"
     ]
    },
    {
     "data": {
      "text/plain": [
       "<matplotlib.axes._subplots.AxesSubplot at 0x7f0cf424a9e8>"
      ]
     },
     "execution_count": 714,
     "metadata": {},
     "output_type": "execute_result"
    },
    {
     "data": {
      "image/png": "[encoded data removed]",
      "text/plain": [
       "<Figure size 432x288 with 2 Axes>"
      ]
     },
     "metadata": {},
     "output_type": "display_data"
    }
   ],
   "source": [
    "cm = confusion_matrix(y_true, y_pred)\n",
    "sns.set(font_scale=1.4) # for label size\n",
    "sns.heatmap(cm, annot=True, annot_kws={\"size\": 16}) # font size\n",
    "\n",
    "plt.show()"
   ]
  },
  {
   "cell_type": "markdown",
   "metadata": {
    "ExecuteTime": {
     "end_time": "2021-05-05T09:56:13.984016Z",
     "start_time": "2021-05-05T09:56:13.979488Z"
    }
   },
   "source": [
    "**Naive Bayes**"
   ]
  },
  {
   "cell_type": "code",
   "execution_count": 741,
   "metadata": {
    "ExecuteTime": {
     "end_time": "2021-05-05T18:28:32.304443Z",
     "start_time": "2021-05-05T18:28:05.058280Z"
    }
   },
   "outputs": [
    {
     "name": "stdout",
     "output_type": "stream",
     "text": [
      "0.03185081481933594\n",
      "Test Accuracy = 0.7839575081022686\n"
     ]
    }
   ],
   "source": [
    "from pyspark.ml.classification import NaiveBayes\n",
    "from pyspark.ml.evaluation import MulticlassClassificationEvaluator\n",
    "\n",
    "# create the trainer and set its parameters\n",
    "nb = NaiveBayes(smoothing=1.0, modelType=\"multinomial\")\n",
    "\n",
    "# train the model\n",
    "model = nb.fit(train)\n",
    "\n",
    "# select example rows to display.\n",
    "start = time.time()\n",
    "predictions = model.transform(test)\n",
    "print(time.time() - start)\n",
    "# predictions.show()\n",
    "\n",
    "# compute accuracy on the test set\n",
    "evaluator = MulticlassClassificationEvaluator(labelCol=\"label\", predictionCol=\"prediction\",\n",
    "                                              metricName=\"accuracy\")\n",
    "accuracy = evaluator.evaluate(predictions)\n",
    "print(\"Test Accuracy = \" + str(accuracy))"
   ]
  },
  {
   "cell_type": "code",
   "execution_count": 742,
   "metadata": {
    "ExecuteTime": {
     "end_time": "2021-05-05T18:30:44.476157Z",
     "start_time": "2021-05-05T18:30:37.201722Z"
    }
   },
   "outputs": [
    {
     "data": {
      "text/plain": [
       "55540"
      ]
     },
     "execution_count": 742,
     "metadata": {},
     "output_type": "execute_result"
    }
   ],
   "source": [
    "predictions.count()"
   ]
  },
  {
   "cell_type": "code",
   "execution_count": 716,
   "metadata": {
    "ExecuteTime": {
     "end_time": "2021-05-05T13:23:29.051973Z",
     "start_time": "2021-05-05T13:23:12.024789Z"
    }
   },
   "outputs": [
    {
     "name": "stdout",
     "output_type": "stream",
     "text": [
      "              precision    recall  f1-score   support\n",
      "\n",
      "           0       0.78      1.00      0.88     43568\n",
      "           1       0.00      0.00      0.00     12049\n",
      "\n",
      "   micro avg       0.78      0.78      0.78     55617\n",
      "   macro avg       0.39      0.50      0.44     55617\n",
      "weighted avg       0.61      0.78      0.69     55617\n",
      "\n"
     ]
    }
   ],
   "source": [
    "y_true = predictions.select(['label']).collect()\n",
    "y_pred = predictions.select(['prediction']).collect()\n",
    "\n",
    "from sklearn.metrics import classification_report, confusion_matrix\n",
    "print(classification_report(y_true, y_pred))"
   ]
  },
  {
   "cell_type": "code",
   "execution_count": 717,
   "metadata": {
    "ExecuteTime": {
     "end_time": "2021-05-05T13:23:31.063870Z",
     "start_time": "2021-05-05T13:23:29.053626Z"
    }
   },
   "outputs": [
    {
     "data": {
      "text/plain": [
       "<matplotlib.axes._subplots.AxesSubplot at 0x7f0ded4b6e48>"
      ]
     },
     "execution_count": 717,
     "metadata": {},
     "output_type": "execute_result"
    },
    {
     "data": {
      "image/png": "[encoded data removed]",
      "text/plain": [
       "<Figure size 432x288 with 2 Axes>"
      ]
     },
     "metadata": {},
     "output_type": "display_data"
    }
   ],
   "source": [
    "cm = confusion_matrix(y_true, y_pred)\n",
    "sns.set(font_scale=1.4) # for label size\n",
    "sns.heatmap(cm, annot=True, annot_kws={\"size\": 16}) # font size\n",
    "\n",
    "plt.show()"
   ]
  }
 ],
 "metadata": {
  "kernelspec": {
   "display_name": "Python 3",
   "language": "python",
   "name": "python3"
  },
  "language_info": {
   "codemirror_mode": {
    "name": "ipython",
    "version": 3
   },
   "file_extension": ".py",
   "mimetype": "text/x-python",
   "name": "python",
   "nbconvert_exporter": "python",
   "pygments_lexer": "ipython3",
   "version": "3.6.7"
  },
  "toc": {
   "base_numbering": 1,
   "nav_menu": {},
   "number_sections": true,
   "sideBar": true,
   "skip_h1_title": false,
   "title_cell": "Table of Contents",
   "title_sidebar": "Contents",
   "toc_cell": false,
   "toc_position": {},
   "toc_section_display": true,
   "toc_window_display": false
  }
 },
 "nbformat": 4,
 "nbformat_minor": 2
}
