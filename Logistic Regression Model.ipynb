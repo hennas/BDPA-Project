{
 "cells": [
  {
   "cell_type": "code",
   "execution_count": 1,
   "metadata": {
    "ExecuteTime": {
     "end_time": "2021-05-06T21:43:35.992433Z",
     "start_time": "2021-05-06T21:43:33.927238Z"
    }
   },
   "outputs": [],
   "source": [
    "from IPython.core.interactiveshell import InteractiveShell\n",
    "InteractiveShell.ast_node_interactivity = \"all\"\n",
    "import pyspark.sql.functions as F\n",
    "from pyspark.ml.feature import Bucketizer, OneHotEncoder, StringIndexer, VectorAssembler\n",
    "from pyspark.ml import Pipeline\n",
    "from pyspark.ml.stat import ChiSquareTest\n",
    "from pyspark.ml.classification import LogisticRegression\n",
    "import time\n",
    "import sys \n",
    "from pyspark.sql import SparkSession\n",
    "import pandas as pd\n",
    "import numpy as np \n",
    "import matplotlib.pyplot as plt\n",
    "%matplotlib inline"
   ]
  },
  {
   "cell_type": "code",
   "execution_count": 2,
   "metadata": {
    "ExecuteTime": {
     "end_time": "2021-05-06T21:43:41.759354Z",
     "start_time": "2021-05-06T21:43:35.994561Z"
    }
   },
   "outputs": [],
   "source": [
    "spark = SparkSession.builder \\\n",
    "    .master(\"spark://10.129.6.139:7077\") \\\n",
    "    .appName(\"Lr_model\") \\\n",
    "    .getOrCreate()"
   ]
  },
  {
   "cell_type": "code",
   "execution_count": 3,
   "metadata": {
    "ExecuteTime": {
     "end_time": "2021-05-06T21:44:01.827123Z",
     "start_time": "2021-05-06T21:43:47.286552Z"
    }
   },
   "outputs": [],
   "source": [
    "df = spark.read.csv(\"/mnt/bdpa21-group9-pvc/Data/Traffic_Violations_preprocessed.csv\", header=True, inferSchema=True)"
   ]
  },
  {
   "cell_type": "code",
   "execution_count": 4,
   "metadata": {
    "ExecuteTime": {
     "end_time": "2021-05-06T21:44:09.045278Z",
     "start_time": "2021-05-06T21:44:08.998465Z"
    }
   },
   "outputs": [],
   "source": [
    "#targets = [\n",
    "# 'Personal Injury',\n",
    "# 'Property Damage',\n",
    "# 'Fatal',\n",
    "# 'Contributed To Accident'\n",
    "#]\n",
    "\n",
    "dfm = df.withColumn(\"Serious\", F.greatest(F.col('Personal Injury'), F.col('Property Damage'), F.col('Fatal'), F.col('Contributed To Accident')))"
   ]
  },
  {
   "cell_type": "markdown",
   "metadata": {
    "ExecuteTime": {
     "end_time": "2021-05-05T12:26:42.944439Z",
     "start_time": "2021-05-05T12:26:42.625353Z"
    }
   },
   "source": [
    "## Feature selection"
   ]
  },
  {
   "cell_type": "code",
   "execution_count": 5,
   "metadata": {
    "ExecuteTime": {
     "end_time": "2021-05-06T21:44:41.986643Z",
     "start_time": "2021-05-06T21:44:41.975375Z"
    }
   },
   "outputs": [],
   "source": [
    "dfm = dfm.where(F.col(\"Year\").isNotNull())"
   ]
  },
  {
   "cell_type": "code",
   "execution_count": 6,
   "metadata": {
    "ExecuteTime": {
     "end_time": "2021-05-06T21:44:42.746306Z",
     "start_time": "2021-05-06T21:44:42.736808Z"
    }
   },
   "outputs": [],
   "source": [
    "dfm = dfm.where(F.col(\"Gender\").isNotNull())"
   ]
  },
  {
   "cell_type": "code",
   "execution_count": 7,
   "metadata": {
    "ExecuteTime": {
     "end_time": "2021-05-06T21:44:46.072406Z",
     "start_time": "2021-05-06T21:44:46.002856Z"
    }
   },
   "outputs": [],
   "source": [
    "dfm = dfm.withColumn(\"Hour\", F.hour(\"Datetime\"))\n",
    "bucketizer_h = Bucketizer(\n",
    "    splits=[0,6,12,18,24], inputCol=\"Hour\", outputCol=\"Time Of Day\"\n",
    ")\n",
    "\n",
    "bucketizer_y = Bucketizer(\n",
    "    splits=[1960,2000,2005,2010,2020], inputCol=\"Year\", outputCol=\"Year_class\"\n",
    ")\n",
    "\n",
    "race_indexer = StringIndexer(inputCol = \"Race\", outputCol = \"Race_class\")\n",
    "\n",
    "encoder_time = OneHotEncoder(inputCol=\"Time Of Day\", outputCol=\"Time Of Day_vec\")\n",
    "encoder_race = OneHotEncoder(inputCol=\"Race_class\", outputCol=\"Race_class_vec\")\n",
    "encoder_year = OneHotEncoder(inputCol=\"Year_class\", outputCol=\"Year_class_vec\")"
   ]
  },
  {
   "cell_type": "code",
   "execution_count": 8,
   "metadata": {
    "ExecuteTime": {
     "end_time": "2021-05-06T21:44:50.514474Z",
     "start_time": "2021-05-06T21:44:50.502877Z"
    }
   },
   "outputs": [],
   "source": [
    "potential_feats = [\n",
    " 'Belts',\n",
    " 'HAZMAT',\n",
    " 'Commercial Vehicle',\n",
    " 'Alcohol',\n",
    " 'Work Zone',\n",
    " 'Race_class', \n",
    " 'Gender',\n",
    " 'Year_class',\n",
    " 'Time Of Day'\n",
    "]\n",
    "\n",
    "assembler_fs = VectorAssembler(inputCols = potential_feats, outputCol = \"pot_features\")"
   ]
  },
  {
   "cell_type": "code",
   "execution_count": 9,
   "metadata": {
    "ExecuteTime": {
     "end_time": "2021-05-06T21:44:58.453952Z",
     "start_time": "2021-05-06T21:44:54.461088Z"
    }
   },
   "outputs": [],
   "source": [
    "pipeline = Pipeline(stages = [bucketizer_h, bucketizer_y, race_indexer, encoder_time, encoder_race, encoder_year, assembler_fs])\n",
    "\n",
    "model = pipeline.fit(dfm)\n",
    "transformed = model.transform(dfm)"
   ]
  },
  {
   "cell_type": "code",
   "execution_count": 10,
   "metadata": {
    "ExecuteTime": {
     "end_time": "2021-05-06T21:45:09.378321Z",
     "start_time": "2021-05-06T21:44:59.614907Z"
    }
   },
   "outputs": [],
   "source": [
    "chi_test = ChiSquareTest.test(transformed, \"pot_features\", \"Serious\")"
   ]
  },
  {
   "cell_type": "code",
   "execution_count": 11,
   "metadata": {
    "ExecuteTime": {
     "end_time": "2021-05-06T21:45:09.575178Z",
     "start_time": "2021-05-06T21:45:09.380169Z"
    }
   },
   "outputs": [
    {
     "name": "stdout",
     "output_type": "stream",
     "text": [
      "pValues: [0.0,0.41700166124160865,5.521857518464568e-05,0.0,4.1040494336286315e-09,0.0,7.496669951478907e-12,0.0,0.0]\n",
      "degreesOfFreedom: [1, 1, 1, 1, 1, 5, 1, 3, 3]\n",
      "statistics: [11021.130605370861,0.6587497911674107,16.25995929067201,190.51880745218477,34.57374316556486,1684.7068287808834,46.8931003487056,218.35105670659303,461.69251500952294]\n"
     ]
    }
   ],
   "source": [
    "chi = chi_test.head()\n",
    "print(\"pValues: \" + str(chi.pValues))\n",
    "print(\"degreesOfFreedom: \" + str(chi.degreesOfFreedom))\n",
    "print(\"statistics: \" + str(chi.statistics))"
   ]
  },
  {
   "cell_type": "markdown",
   "metadata": {
    "ExecuteTime": {
     "end_time": "2021-05-05T19:04:21.117710Z",
     "start_time": "2021-05-05T19:04:21.097034Z"
    }
   },
   "source": [
    "Chi-squared test with Contributed To Accident as the outcome\n",
    "\n",
    "pValues: [0.0,0.2868630680346185,0.011731871125480797,0.0,0.22552408006964897,0.0,0.061509165310227654,0.0,0.0]"
   ]
  },
  {
   "cell_type": "markdown",
   "metadata": {
    "ExecuteTime": {
     "end_time": "2021-05-05T18:58:10.572263Z",
     "start_time": "2021-05-05T18:58:10.554077Z"
    }
   },
   "source": [
    "Chi-squared test with Fatal as the outcome\n",
    "\n",
    "pValues: [0.5379253930113836,0.8751514131933023,0.23792194553632917,0.5205049178366292,0.839523571021395,\n",
    "0.18707311818004668,0.011609716036881546,0.43074941417442003,0.0469421074458829]\n"
   ]
  },
  {
   "cell_type": "markdown",
   "metadata": {
    "ExecuteTime": {
     "end_time": "2021-05-05T18:57:11.530634Z",
     "start_time": "2021-05-05T18:57:11.511890Z"
    }
   },
   "source": [
    "Chi-squared test with Property Damage as the outcome\n",
    "\n",
    "pValues: [0.0,0.5904179947725159,0.030473287050006514,0.0,5.110349476922238e-08,0.0,9.992007221626409e-16,0.0,0.0]"
   ]
  },
  {
   "cell_type": "markdown",
   "metadata": {
    "ExecuteTime": {
     "end_time": "2021-05-05T18:55:31.756458Z",
     "start_time": "2021-05-05T18:55:31.735522Z"
    }
   },
   "source": [
    "Chi-squared test with Personal injury as the outcome\n",
    "\n",
    "pValues: [0.0,0.24092548340245334,0.7119212300473174,0.0,2.1795886229192263e-07,0.0,0.08858297008030158,0.005297372785629029,0.0]"
   ]
  },
  {
   "cell_type": "code",
   "execution_count": 14,
   "metadata": {
    "ExecuteTime": {
     "end_time": "2021-05-06T22:24:20.535935Z",
     "start_time": "2021-05-06T22:24:20.533344Z"
    }
   },
   "outputs": [],
   "source": [
    "# All features having p-value less than equal to 0.05\n",
    "feats = [\n",
    " 'Belts',\n",
    " 'Commercial Vehicle',\n",
    " 'Alcohol',\n",
    " 'Work Zone',\n",
    " #'Race_class_vec', \n",
    " #'Gender',\n",
    " 'Year_class_vec', #One hot encoded version\n",
    " 'Time Of Day_vec' #One hot encoded version\n",
    "]"
   ]
  },
  {
   "cell_type": "markdown",
   "metadata": {
    "ExecuteTime": {
     "end_time": "2021-05-05T12:26:57.068537Z",
     "start_time": "2021-05-05T12:26:57.065803Z"
    }
   },
   "source": [
    "## Model building"
   ]
  },
  {
   "cell_type": "code",
   "execution_count": 12,
   "metadata": {
    "ExecuteTime": {
     "end_time": "2021-05-06T21:48:02.933594Z",
     "start_time": "2021-05-06T21:47:58.640779Z"
    }
   },
   "outputs": [
    {
     "name": "stdout",
     "output_type": "stream",
     "text": [
      "+-------+------+\n",
      "|Serious| count|\n",
      "+-------+------+\n",
      "|      1| 40435|\n",
      "|      0|968472|\n",
      "+-------+------+\n",
      "\n"
     ]
    }
   ],
   "source": [
    "dfm.groupby(\"Serious\").count().show()"
   ]
  },
  {
   "cell_type": "code",
   "execution_count": 15,
   "metadata": {
    "ExecuteTime": {
     "end_time": "2021-05-06T22:24:22.891205Z",
     "start_time": "2021-05-06T22:24:22.825378Z"
    }
   },
   "outputs": [],
   "source": [
    "assembler_final = VectorAssembler(\n",
    "    inputCols=feats,\n",
    "    outputCol=\"features\")\n",
    "\n",
    "transformed = assembler_final.transform(transformed)"
   ]
  },
  {
   "cell_type": "code",
   "execution_count": 18,
   "metadata": {
    "ExecuteTime": {
     "end_time": "2021-05-06T23:05:56.508833Z",
     "start_time": "2021-05-06T23:05:14.696581Z"
    }
   },
   "outputs": [
    {
     "name": "stdout",
     "output_type": "stream",
     "text": [
      "Coefficients: [1.5432368236305825,-0.21918022065628687,1.0192691855288847,1.1273307308851488,0.24554255885957407,0.1295196753680315,0.0707800313001266,0.20718477677797473,-0.08936041973321188,0.18042827799441458]\n",
      "Intercept: -3.454679192945701\n",
      "Coefficient Standard Errors: [0.0159240757232314, 0.07213907689807236, 0.07561071667124765, 0.2223856279618267, 0.015757215938374897, 0.014040715365885938, 0.014040205629032895, 0.014920968008798358, 0.014433822426783096, 0.013457802954640451, 0.013342220998814937]\n",
      "T Values: [96.91217565482792, -3.0383008777056255, 13.48048570893232, 5.069260730637949, 15.582864372733718, 9.224578092560677, 5.041238936968618, 13.885478251532026, -6.191043307239014, 13.406963870889506, -258.9283443328174]\n",
      "P Values: [0.0, 0.002379162797348844, 0.0, 3.9936383711136614e-07, 0.0, 0.0, 4.625275233927084e-07, 0.0, 5.976728001400033e-10, 0.0, 0.0]\n",
      "Dispersion: 1.0\n",
      "Null Deviance: 339380.24545902474\n",
      "Residual Degree Of Freedom Null: 1008906\n",
      "Deviance: 331488.2279751525\n",
      "Residual Degree Of Freedom: 1008896\n",
      "AIC: 331510.2279751525\n"
     ]
    }
   ],
   "source": [
    "from pyspark.ml.regression import GeneralizedLinearRegression\n",
    "\n",
    "glr = GeneralizedLinearRegression(labelCol=\"Serious\", featuresCol=\"features\", family=\"binomial\", link=\"logit\", maxIter=100, regParam=0)\n",
    "\n",
    "lr_model = glr.fit(transformed)\n",
    "coeffs = lr_model.coefficients\n",
    "\n",
    "print(\"Coefficients: \" + str(coeffs))\n",
    "print(\"Intercept: \" + str(lr_model.intercept))\n",
    "\n",
    "# Some metrics\n",
    "summary = lr_model.summary\n",
    "stde = summary.coefficientStandardErrors\n",
    "print(\"Coefficient Standard Errors: \" + str(stde))\n",
    "print(\"T Values: \" + str(summary.tValues))\n",
    "print(\"P Values: \" + str(summary.pValues))\n",
    "print(\"Dispersion: \" + str(summary.dispersion))\n",
    "print(\"Null Deviance: \" + str(summary.nullDeviance))\n",
    "print(\"Residual Degree Of Freedom Null: \" + str(summary.residualDegreeOfFreedomNull))\n",
    "print(\"Deviance: \" + str(summary.deviance))\n",
    "print(\"Residual Degree Of Freedom: \" + str(summary.residualDegreeOfFreedom))\n",
    "print(\"AIC: \" + str(summary.aic))"
   ]
  },
  {
   "cell_type": "code",
   "execution_count": 20,
   "metadata": {
    "ExecuteTime": {
     "end_time": "2021-05-06T23:32:14.812943Z",
     "start_time": "2021-05-06T23:32:14.809907Z"
    }
   },
   "outputs": [],
   "source": [
    "ci_min = np.array(coeffs) - 1.96 * np.array(stde)[1:]\n",
    "ci_max = np.array(coeffs) + 1.96 * np.array(stde)[1:]"
   ]
  },
  {
   "cell_type": "code",
   "execution_count": 21,
   "metadata": {
    "ExecuteTime": {
     "end_time": "2021-05-06T23:32:15.291665Z",
     "start_time": "2021-05-06T23:32:15.282445Z"
    }
   },
   "outputs": [
    {
     "name": "stdout",
     "output_type": "stream",
     "text": [
      "Feature                        exp(b) CI_min CI_max\n",
      "Belts                          4.6797 4.0627 5.3905\n",
      "Commercial Vehicle             0.8032 0.6925 0.9315\n",
      "Alcohol                        2.7712 1.7921 4.2851\n",
      "Work Zone                      3.0874 2.9935 3.1842\n",
      "Year_class_0                   1.2783 1.2436 1.314\n",
      "Year_class_1                   1.1383 1.1074 1.17\n",
      "Year_class_2                   1.0733 1.0424 1.1052\n",
      "Time Of Day_class_0            1.2302 1.1959 1.2655\n",
      "Time Of Day_class_1            0.9145 0.8907 0.939\n",
      "Time Of Day_class_2            1.1977 1.1668 1.2295\n"
     ]
    }
   ],
   "source": [
    "expcoeffs = np.exp(coeffs)\n",
    "expci_min = np.exp(ci_min)\n",
    "expci_max = np.exp(ci_max)\n",
    "f_names = ['Belts',\n",
    " 'Commercial Vehicle',\n",
    " 'Alcohol',\n",
    " 'Work Zone',\n",
    " 'Year_class_0',\n",
    " 'Year_class_1',\n",
    " 'Year_class_2',\n",
    " 'Time Of Day_class_0',\n",
    " 'Time Of Day_class_1',\n",
    " 'Time Of Day_class_2',\n",
    " ]\n",
    "print(\"Feature\" + \" \"*23, \"exp(b)\", \"CI_min\", \"CI_max\")\n",
    "for i in range(len(expcoeffs)):\n",
    "    space = 30 - len(f_names[i])\n",
    "    print(f_names[i] + ' '*space, np.round(expcoeffs[i],4), np.round(expci_min[i],4), np.round(expci_max[i],4))"
   ]
  },
  {
   "cell_type": "code",
   "execution_count": 22,
   "metadata": {
    "ExecuteTime": {
     "end_time": "2021-05-06T23:32:40.854841Z",
     "start_time": "2021-05-06T23:32:22.511166Z"
    }
   },
   "outputs": [],
   "source": [
    "lr = LogisticRegression(labelCol=\"Serious\", featuresCol=\"features\", maxIter=100, regParam=0, elasticNetParam=1, standardization=False)\n",
    "lrModel = lr.fit(transformed)"
   ]
  },
  {
   "cell_type": "code",
   "execution_count": 214,
   "metadata": {
    "ExecuteTime": {
     "end_time": "2021-05-05T19:10:41.466561Z",
     "start_time": "2021-05-05T19:10:41.456265Z"
    }
   },
   "outputs": [
    {
     "data": {
      "text/plain": [
       "DenseVector([1.5432, -0.2192, 1.0193, 1.1273, 0.2455, 0.1295, 0.0708, 0.2072, -0.0894, 0.1804])"
      ]
     },
     "execution_count": 214,
     "metadata": {},
     "output_type": "execute_result"
    }
   ],
   "source": [
    "lrModel.coefficients"
   ]
  },
  {
   "cell_type": "code",
   "execution_count": 24,
   "metadata": {
    "ExecuteTime": {
     "end_time": "2021-05-06T23:33:16.037281Z",
     "start_time": "2021-05-06T23:33:09.438411Z"
    }
   },
   "outputs": [],
   "source": [
    "trainingSummary = lrModel.summary\n",
    "roc = trainingSummary.roc.toPandas()"
   ]
  },
  {
   "cell_type": "code",
   "execution_count": 25,
   "metadata": {
    "ExecuteTime": {
     "end_time": "2021-05-06T23:33:16.694786Z",
     "start_time": "2021-05-06T23:33:16.039027Z"
    }
   },
   "outputs": [
    {
     "data": {
      "text/plain": [
       "[<matplotlib.lines.Line2D at 0x7f9890cc4ba8>]"
      ]
     },
     "execution_count": 25,
     "metadata": {},
     "output_type": "execute_result"
    },
    {
     "data": {
      "text/plain": [
       "Text(0, 0.5, 'False Positive Rate')"
      ]
     },
     "execution_count": 25,
     "metadata": {},
     "output_type": "execute_result"
    },
    {
     "data": {
      "text/plain": [
       "Text(0.5, 0, 'True Positive Rate')"
      ]
     },
     "execution_count": 25,
     "metadata": {},
     "output_type": "execute_result"
    },
    {
     "data": {
      "text/plain": [
       "Text(0.5, 1.0, 'ROC Curve')"
      ]
     },
     "execution_count": 25,
     "metadata": {},
     "output_type": "execute_result"
    },
    {
     "data": {
      "image/png": "[encoded data removed]",
      "text/plain": [
       "<Figure size 432x288 with 1 Axes>"
      ]
     },
     "metadata": {
      "needs_background": "light"
     },
     "output_type": "display_data"
    },
    {
     "name": "stdout",
     "output_type": "stream",
     "text": [
      "AUC: 0.5803532708885919\n"
     ]
    }
   ],
   "source": [
    "plt.plot(roc['FPR'],roc['TPR'])\n",
    "plt.ylabel('False Positive Rate')\n",
    "plt.xlabel('True Positive Rate')\n",
    "plt.title('ROC Curve')\n",
    "plt.show()\n",
    "print('AUC: ' + str(trainingSummary.areaUnderROC))"
   ]
  },
  {
   "cell_type": "code",
   "execution_count": null,
   "metadata": {},
   "outputs": [],
   "source": []
  }
 ],
 "metadata": {
  "kernelspec": {
   "display_name": "Python 3",
   "language": "python",
   "name": "python3"
  },
  "language_info": {
   "codemirror_mode": {
    "name": "ipython",
    "version": 3
   },
   "file_extension": ".py",
   "mimetype": "text/x-python",
   "name": "python",
   "nbconvert_exporter": "python",
   "pygments_lexer": "ipython3",
   "version": "3.6.7"
  },
  "toc": {
   "base_numbering": 1,
   "nav_menu": {},
   "number_sections": true,
   "sideBar": true,
   "skip_h1_title": false,
   "title_cell": "Table of Contents",
   "title_sidebar": "Contents",
   "toc_cell": false,
   "toc_position": {},
   "toc_section_display": true,
   "toc_window_display": false
  }
 },
 "nbformat": 4,
 "nbformat_minor": 2
}
